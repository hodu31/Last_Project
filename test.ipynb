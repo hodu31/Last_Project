{
 "cells": [
  {
   "cell_type": "code",
   "execution_count": null,
   "metadata": {},
   "outputs": [],
   "source": [
    "list = []"
   ]
  },
  {
   "cell_type": "code",
   "execution_count": null,
   "metadata": {},
   "outputs": [],
   "source": [
    "list.append([1, 10])"
   ]
  },
  {
   "cell_type": "code",
   "execution_count": null,
   "metadata": {},
   "outputs": [],
   "source": [
    "list.append([2, 100])"
   ]
  },
  {
   "cell_type": "code",
   "execution_count": null,
   "metadata": {},
   "outputs": [],
   "source": [
    "list"
   ]
  },
  {
   "cell_type": "code",
   "execution_count": null,
   "metadata": {},
   "outputs": [],
   "source": [
    "list = {}"
   ]
  },
  {
   "cell_type": "code",
   "execution_count": null,
   "metadata": {},
   "outputs": [],
   "source": [
    "list[1] = [0, 1, 2]"
   ]
  },
  {
   "cell_type": "code",
   "execution_count": null,
   "metadata": {},
   "outputs": [],
   "source": [
    "list"
   ]
  },
  {
   "cell_type": "code",
   "execution_count": null,
   "metadata": {},
   "outputs": [],
   "source": [
    "list[1][0:2]"
   ]
  },
  {
   "cell_type": "code",
   "execution_count": null,
   "metadata": {},
   "outputs": [],
   "source": [
    "import datetime\n",
    "print(datetime.datetime.now())"
   ]
  },
  {
   "cell_type": "code",
   "execution_count": null,
   "metadata": {},
   "outputs": [],
   "source": [
    "time = datetime.datetime.now()"
   ]
  },
  {
   "cell_type": "code",
   "execution_count": null,
   "metadata": {},
   "outputs": [],
   "source": [
    "time"
   ]
  },
  {
   "cell_type": "code",
   "execution_count": null,
   "metadata": {},
   "outputs": [],
   "source": [
    "list[1].append(datetime.now())"
   ]
  },
  {
   "cell_type": "code",
   "execution_count": null,
   "metadata": {},
   "outputs": [],
   "source": [
    "list[1][3]"
   ]
  },
  {
   "cell_type": "code",
   "execution_count": null,
   "metadata": {},
   "outputs": [],
   "source": [
    "from datetime import datetime\n",
    "now = datetime.now()\n",
    "now_without_microseconds = now.replace(microsecond=0)\n",
    "print(now_without_microseconds)"
   ]
  },
  {
   "cell_type": "code",
   "execution_count": null,
   "metadata": {},
   "outputs": [],
   "source": [
    "list[1].append(now_without_microseconds)"
   ]
  },
  {
   "cell_type": "code",
   "execution_count": null,
   "metadata": {},
   "outputs": [],
   "source": [
    "list"
   ]
  },
  {
   "cell_type": "code",
   "execution_count": null,
   "metadata": {},
   "outputs": [],
   "source": [
    "from datetime import datetime\n",
    "now = datetime.now()\n",
    "now_without_microseconds_1 = now.replace(microsecond=0)"
   ]
  },
  {
   "cell_type": "code",
   "execution_count": null,
   "metadata": {},
   "outputs": [],
   "source": [
    "from datetime import datetime\n",
    "now = datetime.now()\n",
    "now_without_microseconds_2 = now.replace(microsecond=0)"
   ]
  },
  {
   "cell_type": "code",
   "execution_count": null,
   "metadata": {},
   "outputs": [],
   "source": [
    "sec = now_without_microseconds_2 - now_without_microseconds_1\n",
    "sec"
   ]
  },
  {
   "cell_type": "code",
   "execution_count": null,
   "metadata": {},
   "outputs": [],
   "source": [
    "if sec.seconds >= 9: \n",
    "    print('yes')\n",
    "else :\n",
    "    print('no')"
   ]
  },
  {
   "cell_type": "code",
   "execution_count": null,
   "metadata": {},
   "outputs": [],
   "source": [
    "lst = []"
   ]
  },
  {
   "cell_type": "code",
   "execution_count": null,
   "metadata": {},
   "outputs": [],
   "source": [
    "lst.append('dke')"
   ]
  },
  {
   "cell_type": "code",
   "execution_count": null,
   "metadata": {},
   "outputs": [],
   "source": [
    "lst.append(now_without_microseconds_1)"
   ]
  },
  {
   "cell_type": "code",
   "execution_count": null,
   "metadata": {},
   "outputs": [],
   "source": [
    "lst"
   ]
  },
  {
   "cell_type": "code",
   "execution_count": null,
   "metadata": {},
   "outputs": [],
   "source": [
    "[[ 1 , a001 , 1 ], [1, b001, 1], [2, a001, 1], [1, a001, 1]]"
   ]
  },
  {
   "cell_type": "code",
   "execution_count": null,
   "metadata": {},
   "outputs": [],
   "source": [
    "data = [[1, \"a001\", 1], [1, \"b001\", 1], [2, \"a001\", 1], [1, \"a001\", 1]]\n",
    "\n",
    "# Extract the third element from sublists where the first element is 1 and the second element is \"a001\"\n",
    "extracted_values = [sublist[2] for sublist in data if sublist[0] == 1 and sublist[1] == \"a001\"]\n",
    "extracted_values"
   ]
  },
  {
   "cell_type": "code",
   "execution_count": null,
   "metadata": {},
   "outputs": [],
   "source": [
    "data"
   ]
  },
  {
   "cell_type": "code",
   "execution_count": null,
   "metadata": {},
   "outputs": [],
   "source": []
  },
  {
   "cell_type": "code",
   "execution_count": null,
   "metadata": {},
   "outputs": [],
   "source": [
    "data = {1 : [[1],[2],[3]]}"
   ]
  },
  {
   "cell_type": "code",
   "execution_count": null,
   "metadata": {},
   "outputs": [],
   "source": [
    "data[1][2]"
   ]
  },
  {
   "cell_type": "code",
   "execution_count": null,
   "metadata": {},
   "outputs": [],
   "source": [
    "data = []"
   ]
  },
  {
   "cell_type": "code",
   "execution_count": null,
   "metadata": {},
   "outputs": [],
   "source": [
    "data.append([1,2])"
   ]
  },
  {
   "cell_type": "code",
   "execution_count": null,
   "metadata": {},
   "outputs": [],
   "source": [
    "\n",
    "data"
   ]
  },
  {
   "cell_type": "code",
   "execution_count": null,
   "metadata": {},
   "outputs": [],
   "source": [
    "import mysql.connector\n",
    "\n",
    "def update_db_data(data):\n",
    "    # MySQL 연결 정보 설정\n",
    "    config = {\n",
    "        'user': 'root',\n",
    "        'password': '0000',\n",
    "        'host': '127.0.0.1',\n",
    "        'database': 'security',\n",
    "        'port': 3306,\n",
    "        'raise_on_warnings': True\n",
    "    }\n",
    "\n",
    "    # 데이터베이스에 연결\n",
    "    cnx = mysql.connector.connect(**config)\n",
    "\n",
    "    # 커서 객체 생성\n",
    "    cursor = cnx.cursor()\n",
    "\n",
    "    # 데이터를 업데이트하는 SQL 쿼리 작성\n",
    "    update_query = (\"UPDATE lastpro_dan \"\n",
    "                    \"SET USER_ID = %s, SHOP_ID = %s, DAN_V_ID = %s, DAN_TIME = %s, DAN_CODE = %s \")\n",
    "\n",
    "    # 데이터 업데이트\n",
    "    cursor.executemany(update_query, data)\n",
    "\n",
    "    # 변경 사항 커밋\n",
    "    cnx.commit()\n",
    "\n",
    "    # 커서 및 연결 닫기\n",
    "    cursor.close()\n",
    "    cnx.close()"
   ]
  },
  {
   "cell_type": "code",
   "execution_count": null,
   "metadata": {},
   "outputs": [],
   "source": [
    "import mysql.connector\n",
    "\n",
    "def update_db_data(data):\n",
    "    # MySQL 연결 정보 설정\n",
    "    config = {\n",
    "        'user': 'root',\n",
    "        'password': '0000',\n",
    "        'host': '127.0.0.1',\n",
    "        'database': 'security',\n",
    "        'port': 3306,\n",
    "        'raise_on_warnings': True\n",
    "    }\n",
    "\n",
    "    # 데이터베이스에 연결\n",
    "    cnx = mysql.connector.connect(**config)\n",
    "\n",
    "    # 커서 객체 생성\n",
    "    cursor = cnx.cursor()\n",
    "\n",
    "    # 데이터를 업데이트하는 SQL 쿼리 작성\n",
    "    update_query = (\"UPDATE lastpro_dan \"\n",
    "                    \"SET USER_ID = %s, SHOP_ID = %s, DAN_V_ID = %s, DAN_TIME = %s, DAN_CODE = %s \")\n",
    "\n",
    "    # 데이터 업데이트\n",
    "    cursor.executemany(update_query, data)\n",
    "\n",
    "    # 변경 사항 커밋\n",
    "    cnx.commit()\n",
    "\n",
    "    # 커서 및 연결 닫기\n",
    "    cursor.close()\n",
    "    cnx.close()\n"
   ]
  },
  {
   "cell_type": "code",
   "execution_count": 10,
   "metadata": {},
   "outputs": [],
   "source": [
    "import mysql.connector\n",
    "\n",
    "def insert_db_data(data):\n",
    "    # MySQL 연결 정보 설정\n",
    "    config = {\n",
    "        'user': 'root',\n",
    "        'password': '0000',\n",
    "        'host': '127.0.0.1',\n",
    "        'database': 'security',\n",
    "        'port': 3306,\n",
    "        'raise_on_warnings': True\n",
    "    }\n",
    "\n",
    "    # 데이터베이스에 연결\n",
    "    cnx = mysql.connector.connect(**config)\n",
    "\n",
    "    # 커서 객체 생성\n",
    "    cursor = cnx.cursor()\n",
    "\n",
    "    # 데이터를 삽입하는 SQL 쿼리 작성\n",
    "    insert_query = (\"INSERT INTO lastpro_dan \"\n",
    "                    \"(USER_ID, SHOP_ID, DAN_V_ID, DAN_TIME, DAN_CODE) \"\n",
    "                    \"VALUES (%s, %s, %s, %s, %s)\")\n",
    "\n",
    "    # 데이터 삽입\n",
    "    cursor.execute(insert_query, tuple(data))\n",
    "\n",
    "    # 변경 사항 커밋\n",
    "    cnx.commit()\n",
    "\n",
    "    # 커서 및 연결 닫기\n",
    "    cursor.close()\n",
    "    cnx.close()\n"
   ]
  },
  {
   "cell_type": "code",
   "execution_count": 4,
   "metadata": {},
   "outputs": [],
   "source": [
    "from datetime import datetime\n",
    "now = datetime.now()\n",
    "now_without_microseconds_1 = now.replace(microsecond=0)"
   ]
  },
  {
   "cell_type": "code",
   "execution_count": 12,
   "metadata": {},
   "outputs": [
    {
     "data": {
      "text/plain": [
       "datetime.datetime(2023, 10, 17, 16, 41, 11, 274001)"
      ]
     },
     "execution_count": 12,
     "metadata": {},
     "output_type": "execute_result"
    }
   ],
   "source": [
    "now"
   ]
  },
  {
   "cell_type": "code",
   "execution_count": 25,
   "metadata": {},
   "outputs": [],
   "source": [
    "test_data = ['a001', '#001', '1', now , 1]"
   ]
  },
  {
   "cell_type": "code",
   "execution_count": 26,
   "metadata": {},
   "outputs": [],
   "source": [
    "insert_db_data(test_data)"
   ]
  },
  {
   "cell_type": "code",
   "execution_count": 7,
   "metadata": {},
   "outputs": [],
   "source": [
    "import mysql.connector"
   ]
  },
  {
   "cell_type": "code",
   "execution_count": 1,
   "metadata": {},
   "outputs": [],
   "source": [
    "def insert_visit(data):\n",
    "    # MySQL 연결 정보 설정\n",
    "    config = {\n",
    "        'user': 'root',\n",
    "        'password': '0000',\n",
    "        'host': '127.0.0.1',\n",
    "        'database': 'security',\n",
    "        'port': 3306,\n",
    "        'raise_on_warnings': True\n",
    "    }\n",
    "\n",
    "    # 데이터베이스에 연결\n",
    "    cnx = mysql.connector.connect(**config)\n",
    "\n",
    "    # 커서 객체 생성\n",
    "    cursor = cnx.cursor()\n",
    "\n",
    "    # 데이터를 삽입하는 SQL 쿼리 작성\n",
    "    insert_query = (\"INSERT INTO lastpro_visit \"\n",
    "                    \"(USER_ID, SHOP_ID,  V_ID,  V_ENTIME) \"\n",
    "                    \"VALUES (%s, %s, %s, %s)\")\n",
    "\n",
    "    # 데이터 삽입\n",
    "    cursor.execute(insert_query, tuple(data))\n",
    "\n",
    "    # 변경 사항 커밋\n",
    "    cnx.commit()\n",
    "\n",
    "    # 커서 및 연결 닫기\n",
    "    cursor.close()\n",
    "    cnx.close()"
   ]
  },
  {
   "cell_type": "code",
   "execution_count": 9,
   "metadata": {},
   "outputs": [],
   "source": [
    "data01 = [\"a001\", \"#001\", 1 , now ]"
   ]
  },
  {
   "cell_type": "code",
   "execution_count": 8,
   "metadata": {},
   "outputs": [],
   "source": [
    "insert_visit(data01)"
   ]
  },
  {
   "cell_type": "code",
   "execution_count": null,
   "metadata": {},
   "outputs": [],
   "source": []
  }
 ],
 "metadata": {
  "kernelspec": {
   "display_name": "lp",
   "language": "python",
   "name": "python3"
  },
  "language_info": {
   "codemirror_mode": {
    "name": "ipython",
    "version": 3
   },
   "file_extension": ".py",
   "mimetype": "text/x-python",
   "name": "python",
   "nbconvert_exporter": "python",
   "pygments_lexer": "ipython3",
   "version": "3.9.18"
  }
 },
 "nbformat": 4,
 "nbformat_minor": 2
}
