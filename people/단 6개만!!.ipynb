{
 "cells": [
  {
   "cell_type": "code",
   "execution_count": 2,
   "metadata": {},
   "outputs": [],
   "source": [
    "import numpy as np\n",
    "import matplotlib\n",
    "import matplotlib.pyplot as plt\n",
    "import tensorflow as tf  # Version 1.0.0 (some previous versions are used in past commits)\n",
    "from sklearn import metrics\n",
    "import random\n",
    "from random import randint\n",
    "import time\n",
    "import os\n",
    "import numpy as np\n",
    "from collections import namedtuple\n",
    "import cv2\n",
    "from pathlib import Path\n",
    "import argparse\n",
    "import os\n",
    "import csv\n",
    "import pandas as pd\n",
    "from sklearn.linear_model import LogisticRegression\n",
    "from sklearn.metrics import accuracy_score, confusion_matrix\n",
    "from tensorflow import keras"
   ]
  },
  {
   "cell_type": "code",
   "execution_count": 3,
   "metadata": {},
   "outputs": [],
   "source": [
    "#folder_path_1 = \"./data/이상(방화)\"\n",
    "folder_path_2 = \"./data/이상(유기)\"\n",
    "#folder_path_3 = \"./data/이상(전도)\"\n",
    "#folder_path_4 = \"./data/이상(절도)\"\n",
    "folder_path_5 = \"./data/이상(파손)\"\n",
    "folder_path_6 = \"./data/이상(폭행)\"\n",
    "#folder_path_7 = \"./data/이상(흡연)\"\n",
    "#folder_path_7 = \"./data/이상(교통약자)\"\n",
    "#folder_path_8 = \"./data/구매(구매)\"\n",
    "folder_path_9 = \"./data/구매(반품)\"\n",
    "folder_path_10 = \"./data/구매(비교)\"\n",
    "folder_path_11 = \"./data/구매(선택)\""
   ]
  },
  {
   "cell_type": "code",
   "execution_count": 4,
   "metadata": {},
   "outputs": [],
   "source": [
    "def concat(path):\n",
    "    file_lst = os.listdir(path)\n",
    "    df_list = []\n",
    "    for file in file_lst:\n",
    "        file_name = os.path.join(path, file)\n",
    "        df = pd.read_csv(file_name)\n",
    "        df = df[df.NUMOFBODIES != 0].reset_index(drop=True)\n",
    "###\n",
    "        if len(df) < 610:\n",
    "            pad_length = 610 - len(df)\n",
    "            pad_df = pd.DataFrame(0, index=range(len(df), 610), columns=df.columns)\n",
    "            df = pd.concat([df, pad_df])\n",
    "        df['index_num'] = df.index\n",
    "###\n",
    "        df_list.append(df)\n",
    "    #concat_df = pd.concat(df_list, ignore_index=True)\n",
    "    return df_list"
   ]
  },
  {
   "cell_type": "code",
   "execution_count": 5,
   "metadata": {},
   "outputs": [],
   "source": [
    "#fire_mer = concat(folder_path_1)\n",
    "yugi_mer = concat(folder_path_2)\n",
    "#jeon_mer = concat(folder_path_3)\n",
    "#theft_mer = concat(folder_path_4)\n",
    "damage_mer = concat(folder_path_5)\n",
    "violence_mer = concat(folder_path_6)\n",
    "#smoke_mer = concat(folder_path_7)\n",
    "#buy_mer = concat(folder_path_8)\n",
    "refund_mer = concat(folder_path_9)\n",
    "compar_mer = concat(folder_path_10)\n",
    "select_mer = concat(folder_path_11)\n",
    "#test_mer = pd.concat(test_mer, ignore_index=True)"
   ]
  },
  {
   "cell_type": "code",
   "execution_count": 6,
   "metadata": {},
   "outputs": [],
   "source": [
    "#buy_mer = pd.concat(buy_mer, ignore_index=True)\n",
    "refund_mer = pd.concat(refund_mer, ignore_index=True)\n",
    "compar_mer = pd.concat(compar_mer, ignore_index=True)\n",
    "select_mer = pd.concat(select_mer, ignore_index=True)\n",
    "#fire_mer = pd.concat(fire_mer, ignore_index=True)\n",
    "yugi_mer = pd.concat(yugi_mer, ignore_index=True)\n",
    "#jeon_mer = pd.concat(jeon_mer, ignore_index=True)\n",
    "#theft_mer = pd.concat(theft_mer, ignore_index=True)\n",
    "damage_mer = pd.concat(damage_mer, ignore_index=True)\n",
    "violence_mer = pd.concat(violence_mer, ignore_index=True)\n",
    "#smoke_mer = pd.concat(smoke_mer, ignore_index=True)"
   ]
  },
  {
   "cell_type": "code",
   "execution_count": 7,
   "metadata": {},
   "outputs": [],
   "source": [
    "#buy_mer['LABEL'] = 0\n",
    "refund_mer['LABEL'] = 0\n",
    "compar_mer['LABEL'] = 1\n",
    "select_mer['LABEL'] = 2\n",
    "#fire_mer['LABEL'] = 4\n",
    "yugi_mer['LABEL'] = 3\n",
    "#jeon_mer['LABEL'] = 6\n",
    "#theft_mer['LABEL'] = 7\n",
    "damage_mer['LABEL'] = 4\n",
    "violence_mer['LABEL'] = 5\n",
    "#smoke_mer['LABEL'] = 10"
   ]
  },
  {
   "cell_type": "code",
   "execution_count": 8,
   "metadata": {},
   "outputs": [
    {
     "data": {
      "text/plain": [
       "(1536590, 40)"
      ]
     },
     "execution_count": 8,
     "metadata": {},
     "output_type": "execute_result"
    }
   ],
   "source": [
    "mer_lst = [#fire_mer,\n",
    "            yugi_mer,\n",
    "            #jeon_mer,\n",
    "            #theft_mer,\n",
    "            damage_mer,\n",
    "            violence_mer,\n",
    "            #smoke_mer,\n",
    "            #buy_mer,\n",
    "            refund_mer,\n",
    "            compar_mer,\n",
    "            select_mer]\n",
    "full_data = pd.concat(mer_lst, ignore_index=True)\n",
    "full_data.shape"
   ]
  },
  {
   "cell_type": "code",
   "execution_count": 9,
   "metadata": {},
   "outputs": [],
   "source": [
    "# 데이터와 레이블을 추출합니다\n",
    "label_data = full_data['LABEL']\n",
    "data_without_label = full_data.drop(['ID', 'TIMESTAMP', 'FRAME_NUM', 'LABEL'], axis=1)\n"
   ]
  },
  {
   "cell_type": "code",
   "execution_count": 10,
   "metadata": {},
   "outputs": [
    {
     "data": {
      "text/html": [
       "<div>\n",
       "<style scoped>\n",
       "    .dataframe tbody tr th:only-of-type {\n",
       "        vertical-align: middle;\n",
       "    }\n",
       "\n",
       "    .dataframe tbody tr th {\n",
       "        vertical-align: top;\n",
       "    }\n",
       "\n",
       "    .dataframe thead th {\n",
       "        text-align: right;\n",
       "    }\n",
       "</style>\n",
       "<table border=\"1\" class=\"dataframe\">\n",
       "  <thead>\n",
       "    <tr style=\"text-align: right;\">\n",
       "      <th></th>\n",
       "      <th>NUMOFBODIES</th>\n",
       "      <th>NOSE_X</th>\n",
       "      <th>NOSE_Y</th>\n",
       "      <th>LEFT_EYE_X</th>\n",
       "      <th>LEFT_EYE_Y</th>\n",
       "      <th>RIGHT_EYE_X</th>\n",
       "      <th>RIGHT_EYE_Y</th>\n",
       "      <th>LEFT_EAR_X</th>\n",
       "      <th>LEFT_EAR_Y</th>\n",
       "      <th>RIGHT_EAR_X</th>\n",
       "      <th>...</th>\n",
       "      <th>RIGHT_HIP_Y</th>\n",
       "      <th>LEFT_KNEE_X</th>\n",
       "      <th>LEFT_KNEE_Y</th>\n",
       "      <th>RIGHT_KNEE_X</th>\n",
       "      <th>RIGHT_KNEE_Y</th>\n",
       "      <th>LEFT_ANKLE_X</th>\n",
       "      <th>LEFT_ANKLE_Y</th>\n",
       "      <th>RIGHT_ANKLE_X</th>\n",
       "      <th>RIGHT_ANKLE_Y</th>\n",
       "      <th>index_num</th>\n",
       "    </tr>\n",
       "  </thead>\n",
       "  <tbody>\n",
       "    <tr>\n",
       "      <th>0</th>\n",
       "      <td>1</td>\n",
       "      <td>926</td>\n",
       "      <td>151</td>\n",
       "      <td>937</td>\n",
       "      <td>141</td>\n",
       "      <td>926</td>\n",
       "      <td>140</td>\n",
       "      <td>954</td>\n",
       "      <td>144</td>\n",
       "      <td>926</td>\n",
       "      <td>...</td>\n",
       "      <td>297</td>\n",
       "      <td>946</td>\n",
       "      <td>375</td>\n",
       "      <td>893</td>\n",
       "      <td>363</td>\n",
       "      <td>929</td>\n",
       "      <td>454</td>\n",
       "      <td>914</td>\n",
       "      <td>442</td>\n",
       "      <td>0</td>\n",
       "    </tr>\n",
       "    <tr>\n",
       "      <th>1</th>\n",
       "      <td>1</td>\n",
       "      <td>908</td>\n",
       "      <td>143</td>\n",
       "      <td>916</td>\n",
       "      <td>135</td>\n",
       "      <td>905</td>\n",
       "      <td>135</td>\n",
       "      <td>931</td>\n",
       "      <td>141</td>\n",
       "      <td>902</td>\n",
       "      <td>...</td>\n",
       "      <td>313</td>\n",
       "      <td>927</td>\n",
       "      <td>414</td>\n",
       "      <td>885</td>\n",
       "      <td>401</td>\n",
       "      <td>933</td>\n",
       "      <td>484</td>\n",
       "      <td>890</td>\n",
       "      <td>474</td>\n",
       "      <td>1</td>\n",
       "    </tr>\n",
       "    <tr>\n",
       "      <th>2</th>\n",
       "      <td>1</td>\n",
       "      <td>884</td>\n",
       "      <td>164</td>\n",
       "      <td>894</td>\n",
       "      <td>153</td>\n",
       "      <td>880</td>\n",
       "      <td>153</td>\n",
       "      <td>906</td>\n",
       "      <td>154</td>\n",
       "      <td>880</td>\n",
       "      <td>...</td>\n",
       "      <td>319</td>\n",
       "      <td>912</td>\n",
       "      <td>404</td>\n",
       "      <td>854</td>\n",
       "      <td>402</td>\n",
       "      <td>906</td>\n",
       "      <td>487</td>\n",
       "      <td>846</td>\n",
       "      <td>489</td>\n",
       "      <td>2</td>\n",
       "    </tr>\n",
       "    <tr>\n",
       "      <th>3</th>\n",
       "      <td>1</td>\n",
       "      <td>853</td>\n",
       "      <td>162</td>\n",
       "      <td>864</td>\n",
       "      <td>152</td>\n",
       "      <td>844</td>\n",
       "      <td>153</td>\n",
       "      <td>873</td>\n",
       "      <td>156</td>\n",
       "      <td>834</td>\n",
       "      <td>...</td>\n",
       "      <td>330</td>\n",
       "      <td>894</td>\n",
       "      <td>422</td>\n",
       "      <td>840</td>\n",
       "      <td>421</td>\n",
       "      <td>895</td>\n",
       "      <td>495</td>\n",
       "      <td>853</td>\n",
       "      <td>501</td>\n",
       "      <td>3</td>\n",
       "    </tr>\n",
       "    <tr>\n",
       "      <th>4</th>\n",
       "      <td>1</td>\n",
       "      <td>821</td>\n",
       "      <td>179</td>\n",
       "      <td>829</td>\n",
       "      <td>168</td>\n",
       "      <td>823</td>\n",
       "      <td>168</td>\n",
       "      <td>849</td>\n",
       "      <td>170</td>\n",
       "      <td>840</td>\n",
       "      <td>...</td>\n",
       "      <td>360</td>\n",
       "      <td>874</td>\n",
       "      <td>469</td>\n",
       "      <td>837</td>\n",
       "      <td>465</td>\n",
       "      <td>887</td>\n",
       "      <td>558</td>\n",
       "      <td>852</td>\n",
       "      <td>546</td>\n",
       "      <td>4</td>\n",
       "    </tr>\n",
       "    <tr>\n",
       "      <th>5</th>\n",
       "      <td>1</td>\n",
       "      <td>820</td>\n",
       "      <td>185</td>\n",
       "      <td>830</td>\n",
       "      <td>173</td>\n",
       "      <td>820</td>\n",
       "      <td>171</td>\n",
       "      <td>854</td>\n",
       "      <td>178</td>\n",
       "      <td>834</td>\n",
       "      <td>...</td>\n",
       "      <td>370</td>\n",
       "      <td>870</td>\n",
       "      <td>490</td>\n",
       "      <td>828</td>\n",
       "      <td>474</td>\n",
       "      <td>881</td>\n",
       "      <td>565</td>\n",
       "      <td>846</td>\n",
       "      <td>551</td>\n",
       "      <td>5</td>\n",
       "    </tr>\n",
       "    <tr>\n",
       "      <th>6</th>\n",
       "      <td>2</td>\n",
       "      <td>884</td>\n",
       "      <td>188</td>\n",
       "      <td>879</td>\n",
       "      <td>177</td>\n",
       "      <td>882</td>\n",
       "      <td>178</td>\n",
       "      <td>876</td>\n",
       "      <td>190</td>\n",
       "      <td>883</td>\n",
       "      <td>...</td>\n",
       "      <td>306</td>\n",
       "      <td>925</td>\n",
       "      <td>306</td>\n",
       "      <td>940</td>\n",
       "      <td>305</td>\n",
       "      <td>933</td>\n",
       "      <td>244</td>\n",
       "      <td>931</td>\n",
       "      <td>242</td>\n",
       "      <td>6</td>\n",
       "    </tr>\n",
       "    <tr>\n",
       "      <th>7</th>\n",
       "      <td>2</td>\n",
       "      <td>803</td>\n",
       "      <td>194</td>\n",
       "      <td>809</td>\n",
       "      <td>182</td>\n",
       "      <td>813</td>\n",
       "      <td>182</td>\n",
       "      <td>828</td>\n",
       "      <td>188</td>\n",
       "      <td>837</td>\n",
       "      <td>...</td>\n",
       "      <td>391</td>\n",
       "      <td>821</td>\n",
       "      <td>514</td>\n",
       "      <td>859</td>\n",
       "      <td>498</td>\n",
       "      <td>804</td>\n",
       "      <td>617</td>\n",
       "      <td>831</td>\n",
       "      <td>606</td>\n",
       "      <td>7</td>\n",
       "    </tr>\n",
       "    <tr>\n",
       "      <th>8</th>\n",
       "      <td>1</td>\n",
       "      <td>782</td>\n",
       "      <td>204</td>\n",
       "      <td>795</td>\n",
       "      <td>191</td>\n",
       "      <td>778</td>\n",
       "      <td>190</td>\n",
       "      <td>821</td>\n",
       "      <td>192</td>\n",
       "      <td>786</td>\n",
       "      <td>...</td>\n",
       "      <td>415</td>\n",
       "      <td>862</td>\n",
       "      <td>539</td>\n",
       "      <td>809</td>\n",
       "      <td>547</td>\n",
       "      <td>856</td>\n",
       "      <td>617</td>\n",
       "      <td>809</td>\n",
       "      <td>644</td>\n",
       "      <td>8</td>\n",
       "    </tr>\n",
       "    <tr>\n",
       "      <th>9</th>\n",
       "      <td>1</td>\n",
       "      <td>759</td>\n",
       "      <td>215</td>\n",
       "      <td>773</td>\n",
       "      <td>200</td>\n",
       "      <td>757</td>\n",
       "      <td>198</td>\n",
       "      <td>805</td>\n",
       "      <td>204</td>\n",
       "      <td>771</td>\n",
       "      <td>...</td>\n",
       "      <td>444</td>\n",
       "      <td>859</td>\n",
       "      <td>578</td>\n",
       "      <td>786</td>\n",
       "      <td>571</td>\n",
       "      <td>872</td>\n",
       "      <td>663</td>\n",
       "      <td>809</td>\n",
       "      <td>659</td>\n",
       "      <td>9</td>\n",
       "    </tr>\n",
       "  </tbody>\n",
       "</table>\n",
       "<p>10 rows × 36 columns</p>\n",
       "</div>"
      ],
      "text/plain": [
       "   NUMOFBODIES  NOSE_X  NOSE_Y  LEFT_EYE_X  LEFT_EYE_Y  RIGHT_EYE_X  \\\n",
       "0            1     926     151         937         141          926   \n",
       "1            1     908     143         916         135          905   \n",
       "2            1     884     164         894         153          880   \n",
       "3            1     853     162         864         152          844   \n",
       "4            1     821     179         829         168          823   \n",
       "5            1     820     185         830         173          820   \n",
       "6            2     884     188         879         177          882   \n",
       "7            2     803     194         809         182          813   \n",
       "8            1     782     204         795         191          778   \n",
       "9            1     759     215         773         200          757   \n",
       "\n",
       "   RIGHT_EYE_Y  LEFT_EAR_X  LEFT_EAR_Y  RIGHT_EAR_X  ...  RIGHT_HIP_Y  \\\n",
       "0          140         954         144          926  ...          297   \n",
       "1          135         931         141          902  ...          313   \n",
       "2          153         906         154          880  ...          319   \n",
       "3          153         873         156          834  ...          330   \n",
       "4          168         849         170          840  ...          360   \n",
       "5          171         854         178          834  ...          370   \n",
       "6          178         876         190          883  ...          306   \n",
       "7          182         828         188          837  ...          391   \n",
       "8          190         821         192          786  ...          415   \n",
       "9          198         805         204          771  ...          444   \n",
       "\n",
       "   LEFT_KNEE_X  LEFT_KNEE_Y  RIGHT_KNEE_X  RIGHT_KNEE_Y  LEFT_ANKLE_X  \\\n",
       "0          946          375           893           363           929   \n",
       "1          927          414           885           401           933   \n",
       "2          912          404           854           402           906   \n",
       "3          894          422           840           421           895   \n",
       "4          874          469           837           465           887   \n",
       "5          870          490           828           474           881   \n",
       "6          925          306           940           305           933   \n",
       "7          821          514           859           498           804   \n",
       "8          862          539           809           547           856   \n",
       "9          859          578           786           571           872   \n",
       "\n",
       "   LEFT_ANKLE_Y  RIGHT_ANKLE_X  RIGHT_ANKLE_Y  index_num  \n",
       "0           454            914            442          0  \n",
       "1           484            890            474          1  \n",
       "2           487            846            489          2  \n",
       "3           495            853            501          3  \n",
       "4           558            852            546          4  \n",
       "5           565            846            551          5  \n",
       "6           244            931            242          6  \n",
       "7           617            831            606          7  \n",
       "8           617            809            644          8  \n",
       "9           663            809            659          9  \n",
       "\n",
       "[10 rows x 36 columns]"
      ]
     },
     "execution_count": 10,
     "metadata": {},
     "output_type": "execute_result"
    }
   ],
   "source": [
    "data_without_label.head(10)"
   ]
  },
  {
   "cell_type": "code",
   "execution_count": 11,
   "metadata": {},
   "outputs": [],
   "source": [
    "sequence_start_indices = full_data.index[full_data['index_num'] == 0].tolist()\n",
    "sequence_lengths = [sequence_start_indices[i] - sequence_start_indices[i-1] for i in range(1, len(sequence_start_indices))]\n",
    "sequence_lengths.insert(0, sequence_start_indices[0])\n",
    "\n",
    "# Min sequence length\n",
    "min_sequence_length = min(sequence_lengths)"
   ]
  },
  {
   "cell_type": "code",
   "execution_count": 12,
   "metadata": {},
   "outputs": [],
   "source": [
    "min_sequence_length = 610"
   ]
  },
  {
   "cell_type": "code",
   "execution_count": 13,
   "metadata": {},
   "outputs": [
    {
     "data": {
      "text/plain": [
       "((2518, 610, 36), (2518,))"
      ]
     },
     "execution_count": 13,
     "metadata": {},
     "output_type": "execute_result"
    }
   ],
   "source": [
    "X_sequences = []\n",
    "y_sequences = []\n",
    "\n",
    "# Iterating over the start indices to create sequences\n",
    "for i in range(len(sequence_start_indices) - 1):\n",
    "    start_index = sequence_start_indices[i]\n",
    "    end_index = sequence_start_indices[i + 1]\n",
    "\n",
    "    # Ensure the sequence has the expected length before appending\n",
    "    if end_index - start_index == min_sequence_length:\n",
    "        X_sequence = data_without_label.iloc[start_index:end_index].values\n",
    "        y_sequence = label_data.iloc[start_index:end_index].values\n",
    "        X_sequences.append(X_sequence)\n",
    "        y_sequences.append(y_sequence[-1])  # Taking the label of the last frame for the sequence\n",
    "\n",
    "# Converting lists to numpy arrays\n",
    "X_sequences = np.array(X_sequences)\n",
    "y_sequences = np.array(y_sequences)\n",
    "\n",
    "X_sequences.shape, y_sequences.shape\n"
   ]
  },
  {
   "cell_type": "code",
   "execution_count": 14,
   "metadata": {},
   "outputs": [],
   "source": [
    "import tensorflow as tf\n",
    "from sklearn.model_selection import train_test_split\n",
    "\n",
    "X_train, X_temp, y_train, y_temp = train_test_split(X_sequences, y_sequences, test_size=0.3, random_state=48)\n",
    "X_val, X_test, y_val, y_test = train_test_split(X_temp, y_temp, test_size=0.3, random_state=48)"
   ]
  },
  {
   "cell_type": "code",
   "execution_count": 15,
   "metadata": {},
   "outputs": [
    {
     "name": "stdout",
     "output_type": "stream",
     "text": [
      "(1762, 610, 36) (1762,)\n"
     ]
    }
   ],
   "source": [
    "print(X_train.shape, y_train.shape)"
   ]
  },
  {
   "cell_type": "code",
   "execution_count": 16,
   "metadata": {},
   "outputs": [
    {
     "name": "stdout",
     "output_type": "stream",
     "text": [
      "(756, 610, 36) (756,)\n"
     ]
    }
   ],
   "source": [
    "print(X_temp.shape, y_temp.shape)"
   ]
  },
  {
   "cell_type": "code",
   "execution_count": 17,
   "metadata": {},
   "outputs": [],
   "source": [
    "X_train = X_train.astype(np.float32)\n",
    "y_train = y_train.astype(np.float32)\n",
    "X_val = X_val.astype(np.float32)\n",
    "y_val = y_val.astype(np.float32)\n",
    "X_test = X_test.astype(np.float32)\n",
    "y_test = y_test.astype(np.float32)"
   ]
  },
  {
   "cell_type": "code",
   "execution_count": 18,
   "metadata": {},
   "outputs": [],
   "source": [
    "import tensorflow as tf\n",
    "from tensorflow.keras.models import Sequential\n",
    "from tensorflow.keras.layers import LSTM, Dense\n",
    "\n",
    "# 모델 정의\n",
    "model = tf.keras.Sequential([\n",
    "    tf.keras.layers.LSTM(128, return_sequences=True, input_shape=(X_train.shape[1], X_train.shape[2])),\n",
    "    tf.keras.layers.LSTM(64, return_sequences=True),\n",
    "    tf.keras.layers.Dropout(0.3),\n",
    "    tf.keras.layers.LSTM(32),\n",
    "    tf.keras.layers.Flatten(),\n",
    "    tf.keras.layers.Dense(6, activation='softmax')\n",
    "])\n",
    "\n",
    "model.compile(optimizer='adam', loss='sparse_categorical_crossentropy', metrics=['accuracy'])\n",
    "\n",
    "# 훈련 데이터에 대한 샘플 가중치 마스크 생성\n",
    "# 패딩이 아닌 값은 1, 패딩된 값은 0\n",
    "sample_weight_train = np.where(X_train != 0, 1, 0)\n",
    "sample_weight_train = sample_weight_train.max(axis=-1)\n",
    "\n",
    "# 각 시퀀스에 대한 평균 샘플 가중치 계산\n",
    "sample_weight_train_avg = sample_weight_train.mean(axis=1)"
   ]
  },
  {
   "cell_type": "code",
   "execution_count": 20,
   "metadata": {},
   "outputs": [
    {
     "name": "stdout",
     "output_type": "stream",
     "text": [
      "Epoch 1/1000\n",
      "14/14 [==============================] - 39s 3s/step - loss: 1.0622 - accuracy: 0.4989 - val_loss: 1.1050 - val_accuracy: 0.4820\n",
      "Epoch 2/1000\n",
      "14/14 [==============================] - 51s 4s/step - loss: 1.0605 - accuracy: 0.5204 - val_loss: 1.1041 - val_accuracy: 0.5198\n",
      "Epoch 3/1000\n",
      "14/14 [==============================] - 49s 3s/step - loss: 1.0750 - accuracy: 0.4960 - val_loss: 1.0992 - val_accuracy: 0.5047\n",
      "Epoch 4/1000\n",
      "14/14 [==============================] - 49s 4s/step - loss: 1.0650 - accuracy: 0.5136 - val_loss: 1.1159 - val_accuracy: 0.4707\n",
      "Epoch 5/1000\n",
      "14/14 [==============================] - 44s 3s/step - loss: 1.0638 - accuracy: 0.5289 - val_loss: 1.1687 - val_accuracy: 0.4442\n",
      "Epoch 6/1000\n",
      "14/14 [==============================] - 43s 3s/step - loss: 1.0620 - accuracy: 0.5148 - val_loss: 1.0894 - val_accuracy: 0.5009\n",
      "Epoch 7/1000\n",
      "14/14 [==============================] - 51s 4s/step - loss: 1.0405 - accuracy: 0.5329 - val_loss: 1.0724 - val_accuracy: 0.5274\n",
      "Epoch 8/1000\n",
      "14/14 [==============================] - 54s 4s/step - loss: 1.0466 - accuracy: 0.5193 - val_loss: 1.1194 - val_accuracy: 0.4726\n",
      "Epoch 9/1000\n",
      "14/14 [==============================] - 55s 4s/step - loss: 1.0601 - accuracy: 0.5091 - val_loss: 1.1134 - val_accuracy: 0.5406\n",
      "Epoch 10/1000\n",
      "14/14 [==============================] - 54s 4s/step - loss: 1.0375 - accuracy: 0.5250 - val_loss: 1.0627 - val_accuracy: 0.5350\n",
      "Epoch 11/1000\n",
      "14/14 [==============================] - 54s 4s/step - loss: 1.0548 - accuracy: 0.5448 - val_loss: 1.0830 - val_accuracy: 0.5463\n",
      "Epoch 12/1000\n",
      "14/14 [==============================] - 55s 4s/step - loss: 1.0463 - accuracy: 0.5403 - val_loss: 1.0962 - val_accuracy: 0.5028\n",
      "Epoch 13/1000\n",
      "14/14 [==============================] - 49s 3s/step - loss: 1.0300 - accuracy: 0.5454 - val_loss: 1.1017 - val_accuracy: 0.5009\n",
      "8/8 [==============================] - 1s 177ms/step - loss: 1.1755 - accuracy: 0.5066\n",
      "Test Accuracy: 50.66%\n"
     ]
    }
   ],
   "source": [
    "model_file_path = \"./model/sum_all_36.h5\"\n",
    "checkpoint_cb = keras.callbacks.ModelCheckpoint(model_file_path)\n",
    "# - 자동 훈련 멈추기 함수 사용 : 추가 훈련 epoch 2회, 가중치 업데이트\n",
    "early_stopping_cb = keras.callbacks.EarlyStopping(patience=3,\n",
    "                                        restore_best_weights=True)\n",
    "\n",
    "\n",
    "# 4. Model Training\n",
    "# 모델 훈련\n",
    "history = model.fit(X_train, y_train, validation_data=(X_val, y_val), epochs=1000,\n",
    "                    batch_size=128, sample_weight=sample_weight_train_avg,\n",
    "                    callbacks=[checkpoint_cb, early_stopping_cb])\n",
    "\n",
    "# 5. Model Evaluation\n",
    "# 모델 평가\n",
    "loss, accuracy = model.evaluate(X_test, y_test)\n",
    "print(f\"Test Accuracy: {accuracy*100:.2f}%\")\n"
   ]
  },
  {
   "cell_type": "code",
   "execution_count": 21,
   "metadata": {},
   "outputs": [],
   "source": [
    "from keras.models import load_model\n",
    "model1 = load_model('./model/sum_all_32.h5')"
   ]
  },
  {
   "cell_type": "code",
   "execution_count": 22,
   "metadata": {},
   "outputs": [
    {
     "name": "stdout",
     "output_type": "stream",
     "text": [
      "Model: \"sequential\"\n",
      "_________________________________________________________________\n",
      " Layer (type)                Output Shape              Param #   \n",
      "=================================================================\n",
      " lstm (LSTM)                 (None, 610, 128)          84480     \n",
      "                                                                 \n",
      " lstm_1 (LSTM)               (None, 610, 64)           49408     \n",
      "                                                                 \n",
      " dropout (Dropout)           (None, 610, 64)           0         \n",
      "                                                                 \n",
      " lstm_2 (LSTM)               (None, 32)                12416     \n",
      "                                                                 \n",
      " flatten (Flatten)           (None, 32)                0         \n",
      "                                                                 \n",
      " dense (Dense)               (None, 6)                 198       \n",
      "                                                                 \n",
      "=================================================================\n",
      "Total params: 146,502\n",
      "Trainable params: 146,502\n",
      "Non-trainable params: 0\n",
      "_________________________________________________________________\n"
     ]
    }
   ],
   "source": [
    "model1.summary()"
   ]
  },
  {
   "cell_type": "code",
   "execution_count": 23,
   "metadata": {},
   "outputs": [],
   "source": [
    "X_sequences, y_sequences\n",
    "X_val = X_sequences.astype(np.float32)\n",
    "y_val = y_sequences.astype(np.float32)"
   ]
  },
  {
   "cell_type": "code",
   "execution_count": 24,
   "metadata": {},
   "outputs": [
    {
     "data": {
      "text/plain": [
       "(2518, 6)"
      ]
     },
     "execution_count": 24,
     "metadata": {},
     "output_type": "execute_result"
    }
   ],
   "source": [
    "### 불러온 모델로 데이터 정확도 확인하기\n",
    "# - 예측\n",
    "test_preds = model1.predict(X_val)\n",
    "test_preds.shape"
   ]
  },
  {
   "cell_type": "code",
   "execution_count": 25,
   "metadata": {},
   "outputs": [
    {
     "data": {
      "text/plain": [
       "(array([0., 1., 2., 3., 4., 5.], dtype=float32),\n",
       " array([148, 152, 292, 642, 642, 642], dtype=int64))"
      ]
     },
     "execution_count": 25,
     "metadata": {},
     "output_type": "execute_result"
    }
   ],
   "source": [
    "np.unique(y_val, return_counts=True)"
   ]
  },
  {
   "cell_type": "code",
   "execution_count": 26,
   "metadata": {},
   "outputs": [],
   "source": [
    "cate = [ '구매(반품)', '구매(비교)', '구매(선택)','이상(유기)','이상(파손)','이상(폭행)',]"
   ]
  },
  {
   "cell_type": "code",
   "execution_count": 27,
   "metadata": {},
   "outputs": [],
   "source": [
    "# 유니크한 종속변수들을 얻습니다.\n",
    "unique_targets = np.unique(y_val)\n",
    "\n",
    "# 테스트 데이터에 대한 예측을 한 번만 수행\n",
    "test_preds = model1.predict(X_val)\n",
    "test_pred_idx = [np.argmax(pred) for pred in test_preds]"
   ]
  },
  {
   "cell_type": "code",
   "execution_count": 28,
   "metadata": {},
   "outputs": [
    {
     "data": {
      "text/plain": [
       "array([1, 2, 3, 4, 5], dtype=int64)"
      ]
     },
     "execution_count": 28,
     "metadata": {},
     "output_type": "execute_result"
    }
   ],
   "source": [
    "np.unique(test_pred_idx)"
   ]
  },
  {
   "cell_type": "code",
   "execution_count": 29,
   "metadata": {},
   "outputs": [],
   "source": [
    "test_pred_idx = np.array(test_pred_idx)"
   ]
  },
  {
   "cell_type": "code",
   "execution_count": 30,
   "metadata": {},
   "outputs": [
    {
     "data": {
      "image/png": "[encoded data removed]",
      "text/plain": [
       "<Figure size 1200x1000 with 2 Axes>"
      ]
     },
     "metadata": {},
     "output_type": "display_data"
    },
    {
     "name": "stdout",
     "output_type": "stream",
     "text": [
      "F1 Score: 0.42491622348499947\n",
      "\n",
      "Classification Report:\n",
      "               precision    recall  f1-score   support\n",
      "\n",
      "         0.0       0.00      0.00      0.00       148\n",
      "         1.0       0.39      0.76      0.51       152\n",
      "         2.0       0.63      0.17      0.27       292\n",
      "         3.0       0.46      0.80      0.58       642\n",
      "         4.0       0.47      0.10      0.16       642\n",
      "         5.0       0.59      0.81      0.68       642\n",
      "\n",
      "    accuracy                           0.50      2518\n",
      "   macro avg       0.42      0.44      0.37      2518\n",
      "weighted avg       0.48      0.50      0.42      2518\n",
      "\n"
     ]
    },
    {
     "name": "stderr",
     "output_type": "stream",
     "text": [
      "c:\\Users\\de31\\anaconda3\\envs\\lp\\lib\\site-packages\\sklearn\\metrics\\_classification.py:1469: UndefinedMetricWarning: Precision and F-score are ill-defined and being set to 0.0 in labels with no predicted samples. Use `zero_division` parameter to control this behavior.\n",
      "  _warn_prf(average, modifier, msg_start, len(result))\n",
      "c:\\Users\\de31\\anaconda3\\envs\\lp\\lib\\site-packages\\sklearn\\metrics\\_classification.py:1469: UndefinedMetricWarning: Precision and F-score are ill-defined and being set to 0.0 in labels with no predicted samples. Use `zero_division` parameter to control this behavior.\n",
      "  _warn_prf(average, modifier, msg_start, len(result))\n",
      "c:\\Users\\de31\\anaconda3\\envs\\lp\\lib\\site-packages\\sklearn\\metrics\\_classification.py:1469: UndefinedMetricWarning: Precision and F-score are ill-defined and being set to 0.0 in labels with no predicted samples. Use `zero_division` parameter to control this behavior.\n",
      "  _warn_prf(average, modifier, msg_start, len(result))\n"
     ]
    }
   ],
   "source": [
    "from sklearn.metrics import confusion_matrix, f1_score, classification_report\n",
    "import seaborn as sns\n",
    "import matplotlib.pyplot as plt\n",
    "plt.rc(\"font\", family=\"Malgun Gothic\")\n",
    "plt.rcParams[\"axes.unicode_minus\"] = False\n",
    "\n",
    "def plot_confusion_matrix_with_labels(y_true, y_pred, labels):\n",
    "    \"\"\"\n",
    "    Plot confusion matrix with custom labels.\n",
    "    \"\"\"\n",
    "    matrix = confusion_matrix(y_true, y_pred, labels=np.arange(len(labels)))\n",
    "    plt.figure(figsize=(12, 10))\n",
    "    ax=sns.heatmap(matrix, annot=True, fmt='d', cmap='Blues',\n",
    "                xticklabels=labels,\n",
    "                yticklabels=labels)\n",
    "    \n",
    "    ax.set_xticklabels(ax.get_xticklabels(), rotation=90)\n",
    "    ax.set_yticklabels(ax.get_yticklabels(), rotation=0)\n",
    "    plt.xlabel('Predicted Label')\n",
    "    plt.ylabel('True Label')\n",
    "    plt.title('Confusion Matrix')\n",
    "    plt.show()\n",
    "\n",
    "# 실제 레이블과 예측 레이블 (y_val와 test_pred_idx)을 사용하여 Confusion Matrix를 시각화합니다.\n",
    "plot_confusion_matrix_with_labels(y_val, test_pred_idx, cate)\n",
    "\n",
    "# F1 Score를 계산합니다.\n",
    "f1 = f1_score(y_val, test_pred_idx, average='weighted')\n",
    "\n",
    "# 결과를 출력합니다.\n",
    "print(\"F1 Score:\", f1)\n",
    "print(\"\\nClassification Report:\\n\", classification_report(y_val, test_pred_idx))\n"
   ]
  },
  {
   "cell_type": "code",
   "execution_count": null,
   "metadata": {},
   "outputs": [],
   "source": []
  },
  {
   "cell_type": "code",
   "execution_count": null,
   "metadata": {},
   "outputs": [],
   "source": []
  },
  {
   "cell_type": "code",
   "execution_count": null,
   "metadata": {},
   "outputs": [],
   "source": []
  },
  {
   "cell_type": "code",
   "execution_count": null,
   "metadata": {},
   "outputs": [],
   "source": []
  }
 ],
 "metadata": {
  "kernelspec": {
   "display_name": "lp",
   "language": "python",
   "name": "python3"
  },
  "language_info": {
   "codemirror_mode": {
    "name": "ipython",
    "version": 3
   },
   "file_extension": ".py",
   "mimetype": "text/x-python",
   "name": "python",
   "nbconvert_exporter": "python",
   "pygments_lexer": "ipython3",
   "version": "3.9.18"
  },
  "orig_nbformat": 4
 },
 "nbformat": 4,
 "nbformat_minor": 2
}
