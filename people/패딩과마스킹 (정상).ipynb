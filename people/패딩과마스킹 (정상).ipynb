{
 "cells": [
  {
   "cell_type": "code",
   "execution_count": 21,
   "metadata": {},
   "outputs": [],
   "source": [
    "\n",
    "import numpy as np\n",
    "import matplotlib\n",
    "import matplotlib.pyplot as plt\n",
    "import tensorflow as tf  # Version 1.0.0 (some previous versions are used in past commits)\n",
    "from sklearn import metrics\n",
    "import random\n",
    "from random import randint\n",
    "import time\n",
    "import os\n",
    "import numpy as np\n",
    "from collections import namedtuple\n",
    "import cv2\n",
    "from pathlib import Path\n",
    "import argparse\n",
    "import os\n",
    "from openvino.inference_engine import IENetwork, IECore\n",
    "import csv\n",
    "import pandas as pd\n",
    "from sklearn.linear_model import LogisticRegression\n",
    "from sklearn.metrics import accuracy_score, confusion_matrix\n",
    "from tensorflow import keras"
   ]
  },
  {
   "cell_type": "code",
   "execution_count": 22,
   "metadata": {},
   "outputs": [],
   "source": [
    "folder_path_1 = \"./data/구매(구매)\"\n",
    "folder_path_2 = \"./data/구매(반품)\"\n",
    "folder_path_3 = \"./data/구매(비교)\"\n",
    "folder_path_4 = \"./data/구매(선택)\"\n",
    "#folder_path_5 = \"./data/구매(시험)\""
   ]
  },
  {
   "cell_type": "code",
   "execution_count": 23,
   "metadata": {},
   "outputs": [],
   "source": [
    "# folder_path_1 = \"./data/이상(방화)\"\n",
    "# folder_path_2 = \"./data/이상(유기)\"\n",
    "# folder_path_3 = \"./data/이상(전도)\"\n",
    "# folder_path_4 = \"./data/이상(절도)\"\n",
    "# folder_path_5 = \"./data/이상(파손)\"\n",
    "# folder_path_6 = \"./data/이상(폭행)\"\n",
    "# folder_path_7 = \"./data/이상(흡연)\"\n",
    "# folder_path_8 = \"./data/구매(구매)\"\n",
    "# folder_path_9 = \"./data/구매(반품)\"\n",
    "# folder_path_10 = \"./data/구매(비교)\"\n",
    "# folder_path_11 = \"./data/구매(선택)\""
   ]
  },
  {
   "cell_type": "code",
   "execution_count": 24,
   "metadata": {},
   "outputs": [],
   "source": [
    "def concat(path):\n",
    "    file_lst = os.listdir(path)\n",
    "    df_list = []\n",
    "    for file in file_lst:\n",
    "        file_name = os.path.join(path, file)\n",
    "        df = pd.read_csv(file_name)\n",
    "        df = df[df.NUMOFBODIES != 0].reset_index(drop=True)\n",
    "### 인덱스 크기 확인하려면 주석\n",
    "        if len(df) < 610:\n",
    "            pad_length = 610 - len(df)\n",
    "            pad_df = pd.DataFrame(0, index=range(len(df), 610), columns=df.columns)\n",
    "            df = pd.concat([df, pad_df])\n",
    "        df['index_num'] = df.index\n",
    "###\n",
    "        df_list.append(df)\n",
    "    #concat_df = pd.concat(df_list, ignore_index=True)\n",
    "    return df_list"
   ]
  },
  {
   "cell_type": "code",
   "execution_count": 25,
   "metadata": {},
   "outputs": [],
   "source": [
    "buy_mer = concat(folder_path_1)\n",
    "refund_mer = concat(folder_path_2)\n",
    "compar_mer = concat(folder_path_3)\n",
    "select_mer = concat(folder_path_4)\n",
    "#test_mer = concat(folder_path_5)"
   ]
  },
  {
   "cell_type": "code",
   "execution_count": 26,
   "metadata": {},
   "outputs": [],
   "source": [
    "mer_lst = [buy_mer, refund_mer, compar_mer, select_mer] #test_mer"
   ]
  },
  {
   "cell_type": "code",
   "execution_count": 27,
   "metadata": {},
   "outputs": [],
   "source": [
    "def lengs(name):\n",
    "    lengths = []\n",
    "    for i in range(len(name)):\n",
    "        lengths.append(len(name[i]))\n",
    "    return lengths"
   ]
  },
  {
   "cell_type": "code",
   "execution_count": 28,
   "metadata": {},
   "outputs": [
    {
     "data": {
      "text/plain": [
       "[122, 148, 152, 293]"
      ]
     },
     "execution_count": 28,
     "metadata": {},
     "output_type": "execute_result"
    }
   ],
   "source": [
    "lengs(mer_lst)"
   ]
  },
  {
   "cell_type": "code",
   "execution_count": 29,
   "metadata": {},
   "outputs": [
    {
     "data": {
      "text/plain": [
       "[610, 610, 610, 610]"
      ]
     },
     "execution_count": 29,
     "metadata": {},
     "output_type": "execute_result"
    }
   ],
   "source": [
    "lengsed = []\n",
    "for i in mer_lst:\n",
    "    lengsed.append(max(lengs(i)))\n",
    "lengsed"
   ]
  },
  {
   "cell_type": "code",
   "execution_count": 30,
   "metadata": {},
   "outputs": [],
   "source": [
    "buy_mer = pd.concat(buy_mer, ignore_index=True)\n",
    "refund_mer = pd.concat(refund_mer, ignore_index=True)\n",
    "compar_mer = pd.concat(compar_mer, ignore_index=True)\n",
    "select_mer = pd.concat(select_mer, ignore_index=True)\n",
    "#test_mer = pd.concat(test_mer, ignore_index=True)"
   ]
  },
  {
   "cell_type": "code",
   "execution_count": 31,
   "metadata": {},
   "outputs": [],
   "source": [
    "buy_mer['LABEL'] = 0  \n",
    "refund_mer['LABEL'] = 1  \n",
    "compar_mer['LABEL'] = 2\n",
    "select_mer['LABEL'] = 3\n",
    "#test_mer['LABEL'] = 4"
   ]
  },
  {
   "cell_type": "code",
   "execution_count": 32,
   "metadata": {},
   "outputs": [
    {
     "data": {
      "text/plain": [
       "(436150, 40)"
      ]
     },
     "execution_count": 32,
     "metadata": {},
     "output_type": "execute_result"
    }
   ],
   "source": [
    "category_lst = [buy_mer, refund_mer, compar_mer, select_mer] # test_mer\n",
    "full_data = pd.concat(category_lst, ignore_index=True)\n",
    "full_data.shape"
   ]
  },
  {
   "cell_type": "code",
   "execution_count": 33,
   "metadata": {},
   "outputs": [
    {
     "data": {
      "text/plain": [
       "Index(['NUMOFBODIES', 'ID', 'TIMESTAMP', 'FRAME_NUM', 'NOSE_X', 'NOSE_Y',\n",
       "       'LEFT_EYE_X', 'LEFT_EYE_Y', 'RIGHT_EYE_X', 'RIGHT_EYE_Y', 'LEFT_EAR_X',\n",
       "       'LEFT_EAR_Y', 'RIGHT_EAR_X', 'RIGHT_EAR_Y', 'LEFT_SHOULDER_X',\n",
       "       'LEFT_SHOULDER_Y', 'RIGHT_SHOULDER_X', 'RIGHT_SHOULDER_Y',\n",
       "       'LEFT_ELBOW_X', 'LEFT_ELBOW_Y', 'RIGHT_ELBOW_X', 'RIGHT_ELBOW_Y',\n",
       "       'LEFT_WRIST_X', 'LEFT_WRIST_Y', 'RIGHT_WRIST_X', 'RIGHT_WRIST_Y',\n",
       "       'LEFT_HIP_X', 'LEFT_HIP_Y', 'RIGHT_HIP_X', 'RIGHT_HIP_Y', 'LEFT_KNEE_X',\n",
       "       'LEFT_KNEE_Y', 'RIGHT_KNEE_X', 'RIGHT_KNEE_Y', 'LEFT_ANKLE_X',\n",
       "       'LEFT_ANKLE_Y', 'RIGHT_ANKLE_X', 'RIGHT_ANKLE_Y', 'index_num', 'LABEL'],\n",
       "      dtype='object')"
      ]
     },
     "execution_count": 33,
     "metadata": {},
     "output_type": "execute_result"
    }
   ],
   "source": [
    "full_data.columns"
   ]
  },
  {
   "cell_type": "code",
   "execution_count": 34,
   "metadata": {},
   "outputs": [],
   "source": [
    "# 데이터와 레이블을 추출합니다\n",
    "label_data = full_data['LABEL']\n",
    "data_without_label = full_data.drop(['ID', 'TIMESTAMP', 'FRAME_NUM', 'LABEL'], axis=1)"
   ]
  },
  {
   "cell_type": "code",
   "execution_count": 35,
   "metadata": {},
   "outputs": [],
   "source": [
    "sequence_start_indices = full_data.index[full_data['index_num'] == 0].tolist()\n",
    "sequence_lengths = [sequence_start_indices[i] - sequence_start_indices[i-1] for i in range(1, len(sequence_start_indices))]\n",
    "sequence_lengths.insert(0, sequence_start_indices[0])\n",
    "\n",
    "# Min sequence length\n",
    "min_sequence_length = min(sequence_lengths)"
   ]
  },
  {
   "cell_type": "code",
   "execution_count": 36,
   "metadata": {},
   "outputs": [],
   "source": [
    "min_sequence_length = 610"
   ]
  },
  {
   "cell_type": "code",
   "execution_count": 37,
   "metadata": {},
   "outputs": [
    {
     "data": {
      "text/plain": [
       "((714, 610, 36), (714,))"
      ]
     },
     "execution_count": 37,
     "metadata": {},
     "output_type": "execute_result"
    }
   ],
   "source": [
    "X_sequences = []\n",
    "y_sequences = []\n",
    "\n",
    "# Iterating over the start indices to create sequences\n",
    "for i in range(len(sequence_start_indices) - 1):\n",
    "    start_index = sequence_start_indices[i]\n",
    "    end_index = sequence_start_indices[i + 1]\n",
    "    \n",
    "    # Ensure the sequence has the expected length before appending\n",
    "    if end_index - start_index == min_sequence_length:\n",
    "        X_sequence = data_without_label.iloc[start_index:end_index].values\n",
    "        y_sequence = label_data.iloc[start_index:end_index].values\n",
    "        X_sequences.append(X_sequence)\n",
    "        y_sequences.append(y_sequence[-1])  # Taking the label of the last frame for the sequence\n",
    "\n",
    "# Converting lists to numpy arrays\n",
    "X_sequences = np.array(X_sequences)\n",
    "y_sequences = np.array(y_sequences)\n",
    "\n",
    "X_sequences.shape, y_sequences.shape\n"
   ]
  },
  {
   "cell_type": "code",
   "execution_count": 38,
   "metadata": {},
   "outputs": [],
   "source": [
    "import tensorflow as tf\n",
    "from sklearn.model_selection import train_test_split\n",
    "\n",
    "X_train, X_temp, y_train, y_temp = train_test_split(X_sequences, y_sequences, test_size=0.3, random_state=42)\n",
    "X_val, X_test, y_val, y_test = train_test_split(X_temp, y_temp, test_size=0.3, random_state=42)"
   ]
  },
  {
   "cell_type": "code",
   "execution_count": 39,
   "metadata": {},
   "outputs": [
    {
     "name": "stdout",
     "output_type": "stream",
     "text": [
      "(499, 610, 36) (499,)\n"
     ]
    }
   ],
   "source": [
    "print(X_train.shape, y_train.shape)"
   ]
  },
  {
   "cell_type": "code",
   "execution_count": 40,
   "metadata": {},
   "outputs": [],
   "source": [
    "import tensorflow as tf\n",
    "from tensorflow.keras.models import Sequential\n",
    "from tensorflow.keras.layers import LSTM, Dense\n",
    "\n",
    "# 모델 정의\n",
    "model = tf.keras.Sequential([\n",
    "    tf.keras.layers.LSTM(128, return_sequences=True, input_shape=(X_train.shape[1], X_train.shape[2])),\n",
    "    tf.keras.layers.LSTM(64, return_sequences=True),\n",
    "    tf.keras.layers.Dropout(0.3),\n",
    "    tf.keras.layers.LSTM(32),\n",
    "    tf.keras.layers.Flatten(),\n",
    "    tf.keras.layers.Dense(4, activation='softmax')\n",
    "])\n",
    "\n",
    "model.compile(optimizer='adam', loss='sparse_categorical_crossentropy', metrics=['accuracy'])\n",
    "\n",
    "# 훈련 데이터에 대한 샘플 가중치 마스크 생성\n",
    "# 패딩이 아닌 값은 1, 패딩된 값은 0\n",
    "sample_weight_train = np.where(X_train != 0, 1, 0)\n",
    "sample_weight_train = sample_weight_train.max(axis=-1)\n",
    "\n",
    "# 각 시퀀스에 대한 평균 샘플 가중치 계산\n",
    "sample_weight_train_avg = sample_weight_train.mean(axis=1)"
   ]
  },
  {
   "cell_type": "code",
   "execution_count": 41,
   "metadata": {},
   "outputs": [],
   "source": [
    "X_train = X_train.astype(np.float32)\n",
    "y_train = y_train.astype(np.float32)\n",
    "X_val = X_val.astype(np.float32)\n",
    "y_val = y_val.astype(np.float32)\n",
    "X_test = X_test.astype(np.float32)\n",
    "y_test = y_test.astype(np.float32)\n"
   ]
  },
  {
   "cell_type": "code",
   "execution_count": 42,
   "metadata": {},
   "outputs": [
    {
     "name": "stdout",
     "output_type": "stream",
     "text": [
      "Epoch 1/1000\n",
      "4/4 [==============================] - 14s 3s/step - loss: 1.3799 - accuracy: 0.3226 - val_loss: 1.3445 - val_accuracy: 0.3800\n",
      "Epoch 2/1000\n",
      "4/4 [==============================] - 13s 3s/step - loss: 1.2963 - accuracy: 0.4309 - val_loss: 1.3471 - val_accuracy: 0.3800\n",
      "Epoch 3/1000\n",
      "4/4 [==============================] - 12s 3s/step - loss: 1.2865 - accuracy: 0.4309 - val_loss: 1.2918 - val_accuracy: 0.3800\n",
      "Epoch 4/1000\n",
      "2/4 [==============>...............] - ETA: 5s - loss: 1.2846 - accuracy: 0.3984"
     ]
    },
    {
     "ename": "KeyboardInterrupt",
     "evalue": "",
     "output_type": "error",
     "traceback": [
      "\u001b[1;31m---------------------------------------------------------------------------\u001b[0m",
      "\u001b[1;31mKeyboardInterrupt\u001b[0m                         Traceback (most recent call last)",
      "\u001b[1;32mc:\\Last_Project\\관절로때려맞추기모델\\패딩과마스킹 (정상).ipynb 셀 22\u001b[0m line \u001b[0;36m1\n\u001b[0;32m      <a href='vscode-notebook-cell:/c%3A/Last_Project/%EA%B4%80%EC%A0%88%EB%A1%9C%EB%95%8C%EB%A0%A4%EB%A7%9E%EC%B6%94%EA%B8%B0%EB%AA%A8%EB%8D%B8/%ED%8C%A8%EB%94%A9%EA%B3%BC%EB%A7%88%EC%8A%A4%ED%82%B9%20%28%EC%A0%95%EC%83%81%29.ipynb#X26sZmlsZQ%3D%3D?line=3'>4</a>\u001b[0m early_stopping_cb \u001b[39m=\u001b[39m keras\u001b[39m.\u001b[39mcallbacks\u001b[39m.\u001b[39mEarlyStopping(patience\u001b[39m=\u001b[39m\u001b[39m10\u001b[39m,\n\u001b[0;32m      <a href='vscode-notebook-cell:/c%3A/Last_Project/%EA%B4%80%EC%A0%88%EB%A1%9C%EB%95%8C%EB%A0%A4%EB%A7%9E%EC%B6%94%EA%B8%B0%EB%AA%A8%EB%8D%B8/%ED%8C%A8%EB%94%A9%EA%B3%BC%EB%A7%88%EC%8A%A4%ED%82%B9%20%28%EC%A0%95%EC%83%81%29.ipynb#X26sZmlsZQ%3D%3D?line=4'>5</a>\u001b[0m                                         restore_best_weights\u001b[39m=\u001b[39m\u001b[39mTrue\u001b[39;00m)\n\u001b[0;32m      <a href='vscode-notebook-cell:/c%3A/Last_Project/%EA%B4%80%EC%A0%88%EB%A1%9C%EB%95%8C%EB%A0%A4%EB%A7%9E%EC%B6%94%EA%B8%B0%EB%AA%A8%EB%8D%B8/%ED%8C%A8%EB%94%A9%EA%B3%BC%EB%A7%88%EC%8A%A4%ED%82%B9%20%28%EC%A0%95%EC%83%81%29.ipynb#X26sZmlsZQ%3D%3D?line=7'>8</a>\u001b[0m \u001b[39m# 4. Model Training\u001b[39;00m\n\u001b[0;32m      <a href='vscode-notebook-cell:/c%3A/Last_Project/%EA%B4%80%EC%A0%88%EB%A1%9C%EB%95%8C%EB%A0%A4%EB%A7%9E%EC%B6%94%EA%B8%B0%EB%AA%A8%EB%8D%B8/%ED%8C%A8%EB%94%A9%EA%B3%BC%EB%A7%88%EC%8A%A4%ED%82%B9%20%28%EC%A0%95%EC%83%81%29.ipynb#X26sZmlsZQ%3D%3D?line=8'>9</a>\u001b[0m \u001b[39m# 모델 훈련\u001b[39;00m\n\u001b[1;32m---> <a href='vscode-notebook-cell:/c%3A/Last_Project/%EA%B4%80%EC%A0%88%EB%A1%9C%EB%95%8C%EB%A0%A4%EB%A7%9E%EC%B6%94%EA%B8%B0%EB%AA%A8%EB%8D%B8/%ED%8C%A8%EB%94%A9%EA%B3%BC%EB%A7%88%EC%8A%A4%ED%82%B9%20%28%EC%A0%95%EC%83%81%29.ipynb#X26sZmlsZQ%3D%3D?line=9'>10</a>\u001b[0m history \u001b[39m=\u001b[39m model\u001b[39m.\u001b[39;49mfit(X_train, y_train, validation_data\u001b[39m=\u001b[39;49m(X_val, y_val), epochs\u001b[39m=\u001b[39;49m\u001b[39m1000\u001b[39;49m,\n\u001b[0;32m     <a href='vscode-notebook-cell:/c%3A/Last_Project/%EA%B4%80%EC%A0%88%EB%A1%9C%EB%95%8C%EB%A0%A4%EB%A7%9E%EC%B6%94%EA%B8%B0%EB%AA%A8%EB%8D%B8/%ED%8C%A8%EB%94%A9%EA%B3%BC%EB%A7%88%EC%8A%A4%ED%82%B9%20%28%EC%A0%95%EC%83%81%29.ipynb#X26sZmlsZQ%3D%3D?line=10'>11</a>\u001b[0m                     batch_size\u001b[39m=\u001b[39;49m\u001b[39m128\u001b[39;49m, sample_weight\u001b[39m=\u001b[39;49msample_weight_train_avg,\n\u001b[0;32m     <a href='vscode-notebook-cell:/c%3A/Last_Project/%EA%B4%80%EC%A0%88%EB%A1%9C%EB%95%8C%EB%A0%A4%EB%A7%9E%EC%B6%94%EA%B8%B0%EB%AA%A8%EB%8D%B8/%ED%8C%A8%EB%94%A9%EA%B3%BC%EB%A7%88%EC%8A%A4%ED%82%B9%20%28%EC%A0%95%EC%83%81%29.ipynb#X26sZmlsZQ%3D%3D?line=11'>12</a>\u001b[0m                     callbacks\u001b[39m=\u001b[39;49m[checkpoint_cb, early_stopping_cb])\n\u001b[0;32m     <a href='vscode-notebook-cell:/c%3A/Last_Project/%EA%B4%80%EC%A0%88%EB%A1%9C%EB%95%8C%EB%A0%A4%EB%A7%9E%EC%B6%94%EA%B8%B0%EB%AA%A8%EB%8D%B8/%ED%8C%A8%EB%94%A9%EA%B3%BC%EB%A7%88%EC%8A%A4%ED%82%B9%20%28%EC%A0%95%EC%83%81%29.ipynb#X26sZmlsZQ%3D%3D?line=13'>14</a>\u001b[0m \u001b[39m# 5. Model Evaluation\u001b[39;00m\n\u001b[0;32m     <a href='vscode-notebook-cell:/c%3A/Last_Project/%EA%B4%80%EC%A0%88%EB%A1%9C%EB%95%8C%EB%A0%A4%EB%A7%9E%EC%B6%94%EA%B8%B0%EB%AA%A8%EB%8D%B8/%ED%8C%A8%EB%94%A9%EA%B3%BC%EB%A7%88%EC%8A%A4%ED%82%B9%20%28%EC%A0%95%EC%83%81%29.ipynb#X26sZmlsZQ%3D%3D?line=14'>15</a>\u001b[0m \u001b[39m# 모델 평가\u001b[39;00m\n\u001b[0;32m     <a href='vscode-notebook-cell:/c%3A/Last_Project/%EA%B4%80%EC%A0%88%EB%A1%9C%EB%95%8C%EB%A0%A4%EB%A7%9E%EC%B6%94%EA%B8%B0%EB%AA%A8%EB%8D%B8/%ED%8C%A8%EB%94%A9%EA%B3%BC%EB%A7%88%EC%8A%A4%ED%82%B9%20%28%EC%A0%95%EC%83%81%29.ipynb#X26sZmlsZQ%3D%3D?line=15'>16</a>\u001b[0m loss, accuracy \u001b[39m=\u001b[39m model\u001b[39m.\u001b[39mevaluate(X_test, y_test)\n",
      "File \u001b[1;32mc:\\Users\\de31\\anaconda3\\envs\\lp\\lib\\site-packages\\keras\\utils\\traceback_utils.py:64\u001b[0m, in \u001b[0;36mfilter_traceback.<locals>.error_handler\u001b[1;34m(*args, **kwargs)\u001b[0m\n\u001b[0;32m     62\u001b[0m filtered_tb \u001b[39m=\u001b[39m \u001b[39mNone\u001b[39;00m\n\u001b[0;32m     63\u001b[0m \u001b[39mtry\u001b[39;00m:\n\u001b[1;32m---> 64\u001b[0m   \u001b[39mreturn\u001b[39;00m fn(\u001b[39m*\u001b[39margs, \u001b[39m*\u001b[39m\u001b[39m*\u001b[39mkwargs)\n\u001b[0;32m     65\u001b[0m \u001b[39mexcept\u001b[39;00m \u001b[39mException\u001b[39;00m \u001b[39mas\u001b[39;00m e:  \u001b[39m# pylint: disable=broad-except\u001b[39;00m\n\u001b[0;32m     66\u001b[0m   filtered_tb \u001b[39m=\u001b[39m _process_traceback_frames(e\u001b[39m.\u001b[39m__traceback__)\n",
      "File \u001b[1;32mc:\\Users\\de31\\anaconda3\\envs\\lp\\lib\\site-packages\\keras\\engine\\training.py:1384\u001b[0m, in \u001b[0;36mModel.fit\u001b[1;34m(self, x, y, batch_size, epochs, verbose, callbacks, validation_split, validation_data, shuffle, class_weight, sample_weight, initial_epoch, steps_per_epoch, validation_steps, validation_batch_size, validation_freq, max_queue_size, workers, use_multiprocessing)\u001b[0m\n\u001b[0;32m   1377\u001b[0m \u001b[39mwith\u001b[39;00m tf\u001b[39m.\u001b[39mprofiler\u001b[39m.\u001b[39mexperimental\u001b[39m.\u001b[39mTrace(\n\u001b[0;32m   1378\u001b[0m     \u001b[39m'\u001b[39m\u001b[39mtrain\u001b[39m\u001b[39m'\u001b[39m,\n\u001b[0;32m   1379\u001b[0m     epoch_num\u001b[39m=\u001b[39mepoch,\n\u001b[0;32m   1380\u001b[0m     step_num\u001b[39m=\u001b[39mstep,\n\u001b[0;32m   1381\u001b[0m     batch_size\u001b[39m=\u001b[39mbatch_size,\n\u001b[0;32m   1382\u001b[0m     _r\u001b[39m=\u001b[39m\u001b[39m1\u001b[39m):\n\u001b[0;32m   1383\u001b[0m   callbacks\u001b[39m.\u001b[39mon_train_batch_begin(step)\n\u001b[1;32m-> 1384\u001b[0m   tmp_logs \u001b[39m=\u001b[39m \u001b[39mself\u001b[39;49m\u001b[39m.\u001b[39;49mtrain_function(iterator)\n\u001b[0;32m   1385\u001b[0m   \u001b[39mif\u001b[39;00m data_handler\u001b[39m.\u001b[39mshould_sync:\n\u001b[0;32m   1386\u001b[0m     context\u001b[39m.\u001b[39masync_wait()\n",
      "File \u001b[1;32mc:\\Users\\de31\\anaconda3\\envs\\lp\\lib\\site-packages\\tensorflow\\python\\util\\traceback_utils.py:150\u001b[0m, in \u001b[0;36mfilter_traceback.<locals>.error_handler\u001b[1;34m(*args, **kwargs)\u001b[0m\n\u001b[0;32m    148\u001b[0m filtered_tb \u001b[39m=\u001b[39m \u001b[39mNone\u001b[39;00m\n\u001b[0;32m    149\u001b[0m \u001b[39mtry\u001b[39;00m:\n\u001b[1;32m--> 150\u001b[0m   \u001b[39mreturn\u001b[39;00m fn(\u001b[39m*\u001b[39margs, \u001b[39m*\u001b[39m\u001b[39m*\u001b[39mkwargs)\n\u001b[0;32m    151\u001b[0m \u001b[39mexcept\u001b[39;00m \u001b[39mException\u001b[39;00m \u001b[39mas\u001b[39;00m e:\n\u001b[0;32m    152\u001b[0m   filtered_tb \u001b[39m=\u001b[39m _process_traceback_frames(e\u001b[39m.\u001b[39m__traceback__)\n",
      "File \u001b[1;32mc:\\Users\\de31\\anaconda3\\envs\\lp\\lib\\site-packages\\tensorflow\\python\\eager\\def_function.py:915\u001b[0m, in \u001b[0;36mFunction.__call__\u001b[1;34m(self, *args, **kwds)\u001b[0m\n\u001b[0;32m    912\u001b[0m compiler \u001b[39m=\u001b[39m \u001b[39m\"\u001b[39m\u001b[39mxla\u001b[39m\u001b[39m\"\u001b[39m \u001b[39mif\u001b[39;00m \u001b[39mself\u001b[39m\u001b[39m.\u001b[39m_jit_compile \u001b[39melse\u001b[39;00m \u001b[39m\"\u001b[39m\u001b[39mnonXla\u001b[39m\u001b[39m\"\u001b[39m\n\u001b[0;32m    914\u001b[0m \u001b[39mwith\u001b[39;00m OptionalXlaContext(\u001b[39mself\u001b[39m\u001b[39m.\u001b[39m_jit_compile):\n\u001b[1;32m--> 915\u001b[0m   result \u001b[39m=\u001b[39m \u001b[39mself\u001b[39m\u001b[39m.\u001b[39m_call(\u001b[39m*\u001b[39margs, \u001b[39m*\u001b[39m\u001b[39m*\u001b[39mkwds)\n\u001b[0;32m    917\u001b[0m new_tracing_count \u001b[39m=\u001b[39m \u001b[39mself\u001b[39m\u001b[39m.\u001b[39mexperimental_get_tracing_count()\n\u001b[0;32m    918\u001b[0m without_tracing \u001b[39m=\u001b[39m (tracing_count \u001b[39m==\u001b[39m new_tracing_count)\n",
      "File \u001b[1;32mc:\\Users\\de31\\anaconda3\\envs\\lp\\lib\\site-packages\\tensorflow\\python\\eager\\def_function.py:947\u001b[0m, in \u001b[0;36mFunction._call\u001b[1;34m(self, *args, **kwds)\u001b[0m\n\u001b[0;32m    944\u001b[0m   \u001b[39mself\u001b[39m\u001b[39m.\u001b[39m_lock\u001b[39m.\u001b[39mrelease()\n\u001b[0;32m    945\u001b[0m   \u001b[39m# In this case we have created variables on the first call, so we run the\u001b[39;00m\n\u001b[0;32m    946\u001b[0m   \u001b[39m# defunned version which is guaranteed to never create variables.\u001b[39;00m\n\u001b[1;32m--> 947\u001b[0m   \u001b[39mreturn\u001b[39;00m \u001b[39mself\u001b[39m\u001b[39m.\u001b[39m_stateless_fn(\u001b[39m*\u001b[39margs, \u001b[39m*\u001b[39m\u001b[39m*\u001b[39mkwds)  \u001b[39m# pylint: disable=not-callable\u001b[39;00m\n\u001b[0;32m    948\u001b[0m \u001b[39melif\u001b[39;00m \u001b[39mself\u001b[39m\u001b[39m.\u001b[39m_stateful_fn \u001b[39mis\u001b[39;00m \u001b[39mnot\u001b[39;00m \u001b[39mNone\u001b[39;00m:\n\u001b[0;32m    949\u001b[0m   \u001b[39m# Release the lock early so that multiple threads can perform the call\u001b[39;00m\n\u001b[0;32m    950\u001b[0m   \u001b[39m# in parallel.\u001b[39;00m\n\u001b[0;32m    951\u001b[0m   \u001b[39mself\u001b[39m\u001b[39m.\u001b[39m_lock\u001b[39m.\u001b[39mrelease()\n",
      "File \u001b[1;32mc:\\Users\\de31\\anaconda3\\envs\\lp\\lib\\site-packages\\tensorflow\\python\\eager\\function.py:2956\u001b[0m, in \u001b[0;36mFunction.__call__\u001b[1;34m(self, *args, **kwargs)\u001b[0m\n\u001b[0;32m   2953\u001b[0m \u001b[39mwith\u001b[39;00m \u001b[39mself\u001b[39m\u001b[39m.\u001b[39m_lock:\n\u001b[0;32m   2954\u001b[0m   (graph_function,\n\u001b[0;32m   2955\u001b[0m    filtered_flat_args) \u001b[39m=\u001b[39m \u001b[39mself\u001b[39m\u001b[39m.\u001b[39m_maybe_define_function(args, kwargs)\n\u001b[1;32m-> 2956\u001b[0m \u001b[39mreturn\u001b[39;00m graph_function\u001b[39m.\u001b[39;49m_call_flat(\n\u001b[0;32m   2957\u001b[0m     filtered_flat_args, captured_inputs\u001b[39m=\u001b[39;49mgraph_function\u001b[39m.\u001b[39;49mcaptured_inputs)\n",
      "File \u001b[1;32mc:\\Users\\de31\\anaconda3\\envs\\lp\\lib\\site-packages\\tensorflow\\python\\eager\\function.py:1853\u001b[0m, in \u001b[0;36mConcreteFunction._call_flat\u001b[1;34m(self, args, captured_inputs, cancellation_manager)\u001b[0m\n\u001b[0;32m   1849\u001b[0m possible_gradient_type \u001b[39m=\u001b[39m gradients_util\u001b[39m.\u001b[39mPossibleTapeGradientTypes(args)\n\u001b[0;32m   1850\u001b[0m \u001b[39mif\u001b[39;00m (possible_gradient_type \u001b[39m==\u001b[39m gradients_util\u001b[39m.\u001b[39mPOSSIBLE_GRADIENT_TYPES_NONE\n\u001b[0;32m   1851\u001b[0m     \u001b[39mand\u001b[39;00m executing_eagerly):\n\u001b[0;32m   1852\u001b[0m   \u001b[39m# No tape is watching; skip to running the function.\u001b[39;00m\n\u001b[1;32m-> 1853\u001b[0m   \u001b[39mreturn\u001b[39;00m \u001b[39mself\u001b[39m\u001b[39m.\u001b[39m_build_call_outputs(\u001b[39mself\u001b[39;49m\u001b[39m.\u001b[39;49m_inference_function\u001b[39m.\u001b[39;49mcall(\n\u001b[0;32m   1854\u001b[0m       ctx, args, cancellation_manager\u001b[39m=\u001b[39;49mcancellation_manager))\n\u001b[0;32m   1855\u001b[0m forward_backward \u001b[39m=\u001b[39m \u001b[39mself\u001b[39m\u001b[39m.\u001b[39m_select_forward_and_backward_functions(\n\u001b[0;32m   1856\u001b[0m     args,\n\u001b[0;32m   1857\u001b[0m     possible_gradient_type,\n\u001b[0;32m   1858\u001b[0m     executing_eagerly)\n\u001b[0;32m   1859\u001b[0m forward_function, args_with_tangents \u001b[39m=\u001b[39m forward_backward\u001b[39m.\u001b[39mforward()\n",
      "File \u001b[1;32mc:\\Users\\de31\\anaconda3\\envs\\lp\\lib\\site-packages\\tensorflow\\python\\eager\\function.py:499\u001b[0m, in \u001b[0;36m_EagerDefinedFunction.call\u001b[1;34m(self, ctx, args, cancellation_manager)\u001b[0m\n\u001b[0;32m    497\u001b[0m \u001b[39mwith\u001b[39;00m _InterpolateFunctionError(\u001b[39mself\u001b[39m):\n\u001b[0;32m    498\u001b[0m   \u001b[39mif\u001b[39;00m cancellation_manager \u001b[39mis\u001b[39;00m \u001b[39mNone\u001b[39;00m:\n\u001b[1;32m--> 499\u001b[0m     outputs \u001b[39m=\u001b[39m execute\u001b[39m.\u001b[39;49mexecute(\n\u001b[0;32m    500\u001b[0m         \u001b[39mstr\u001b[39;49m(\u001b[39mself\u001b[39;49m\u001b[39m.\u001b[39;49msignature\u001b[39m.\u001b[39;49mname),\n\u001b[0;32m    501\u001b[0m         num_outputs\u001b[39m=\u001b[39;49m\u001b[39mself\u001b[39;49m\u001b[39m.\u001b[39;49m_num_outputs,\n\u001b[0;32m    502\u001b[0m         inputs\u001b[39m=\u001b[39;49margs,\n\u001b[0;32m    503\u001b[0m         attrs\u001b[39m=\u001b[39;49mattrs,\n\u001b[0;32m    504\u001b[0m         ctx\u001b[39m=\u001b[39;49mctx)\n\u001b[0;32m    505\u001b[0m   \u001b[39melse\u001b[39;00m:\n\u001b[0;32m    506\u001b[0m     outputs \u001b[39m=\u001b[39m execute\u001b[39m.\u001b[39mexecute_with_cancellation(\n\u001b[0;32m    507\u001b[0m         \u001b[39mstr\u001b[39m(\u001b[39mself\u001b[39m\u001b[39m.\u001b[39msignature\u001b[39m.\u001b[39mname),\n\u001b[0;32m    508\u001b[0m         num_outputs\u001b[39m=\u001b[39m\u001b[39mself\u001b[39m\u001b[39m.\u001b[39m_num_outputs,\n\u001b[1;32m   (...)\u001b[0m\n\u001b[0;32m    511\u001b[0m         ctx\u001b[39m=\u001b[39mctx,\n\u001b[0;32m    512\u001b[0m         cancellation_manager\u001b[39m=\u001b[39mcancellation_manager)\n",
      "File \u001b[1;32mc:\\Users\\de31\\anaconda3\\envs\\lp\\lib\\site-packages\\tensorflow\\python\\eager\\execute.py:54\u001b[0m, in \u001b[0;36mquick_execute\u001b[1;34m(op_name, num_outputs, inputs, attrs, ctx, name)\u001b[0m\n\u001b[0;32m     52\u001b[0m \u001b[39mtry\u001b[39;00m:\n\u001b[0;32m     53\u001b[0m   ctx\u001b[39m.\u001b[39mensure_initialized()\n\u001b[1;32m---> 54\u001b[0m   tensors \u001b[39m=\u001b[39m pywrap_tfe\u001b[39m.\u001b[39;49mTFE_Py_Execute(ctx\u001b[39m.\u001b[39;49m_handle, device_name, op_name,\n\u001b[0;32m     55\u001b[0m                                       inputs, attrs, num_outputs)\n\u001b[0;32m     56\u001b[0m \u001b[39mexcept\u001b[39;00m core\u001b[39m.\u001b[39m_NotOkStatusException \u001b[39mas\u001b[39;00m e:\n\u001b[0;32m     57\u001b[0m   \u001b[39mif\u001b[39;00m name \u001b[39mis\u001b[39;00m \u001b[39mnot\u001b[39;00m \u001b[39mNone\u001b[39;00m:\n",
      "\u001b[1;31mKeyboardInterrupt\u001b[0m: "
     ]
    }
   ],
   "source": [
    "model_file_path = \"./model/best_lstm_model_tttt.h5\"\n",
    "checkpoint_cb = keras.callbacks.ModelCheckpoint(model_file_path)\n",
    "# - 자동 훈련 멈추기 함수 사용 : 추가 훈련 epoch 2회, 가중치 업데이트\n",
    "early_stopping_cb = keras.callbacks.EarlyStopping(patience=10,\n",
    "                                        restore_best_weights=True)\n",
    "\n",
    "\n",
    "# 4. Model Training\n",
    "# 모델 훈련\n",
    "history = model.fit(X_train, y_train, validation_data=(X_val, y_val), epochs=1000,\n",
    "                    batch_size=128, sample_weight=sample_weight_train_avg,\n",
    "                    callbacks=[checkpoint_cb, early_stopping_cb])\n",
    "\n",
    "# 5. Model Evaluation\n",
    "# 모델 평가\n",
    "loss, accuracy = model.evaluate(X_test, y_test)\n",
    "print(f\"Test Accuracy: {accuracy*100:.2f}%\")\n"
   ]
  },
  {
   "cell_type": "code",
   "execution_count": null,
   "metadata": {},
   "outputs": [],
   "source": [
    "from keras.models import load_model\n",
    "model1 = load_model('./model/best_lstm_model_tttt.h5')"
   ]
  },
  {
   "cell_type": "code",
   "execution_count": null,
   "metadata": {},
   "outputs": [],
   "source": [
    "model1.summary()"
   ]
  },
  {
   "cell_type": "code",
   "execution_count": null,
   "metadata": {},
   "outputs": [],
   "source": [
    "### 불러온 모델로 데이터 정확도 확인하기\n",
    "# - 예측\n",
    "test_preds = model1.predict(X_val)\n",
    "test_preds.shape"
   ]
  },
  {
   "cell_type": "code",
   "execution_count": null,
   "metadata": {},
   "outputs": [],
   "source": [
    "\n",
    "# - 정답갯수 / 오답 갯수 (100개 데이터에 대해서만)\n",
    "# - 정답률 / 오답률 (100개 데이터에 대해서만)\n",
    "test_pred_idx = [np.argmax(pred) for pred in test_preds]\n",
    "test_pred_idx\n",
    "\n",
    "all_cnt = len(test_pred_idx)\n",
    "o_cnt = len(y_val[(test_pred_idx == y_val)])\n",
    "x_cnt = len(y_val[(test_pred_idx != y_val)])\n",
    "\n",
    "print(\"정답갯수 : {}개, 오답갯수 : {}개\".format(o_cnt, x_cnt))\n",
    "print(\"정답률 : {}%, 오답률 : {}%\".format(o_cnt/all_cnt*100,\n",
    "                                        x_cnt/all_cnt*100))"
   ]
  },
  {
   "cell_type": "code",
   "execution_count": null,
   "metadata": {},
   "outputs": [],
   "source": [
    "cate = ['구매(구매)', '구매(반품)', '구매(비교)', '구매(선택)']#'구매(시험)',"
   ]
  },
  {
   "cell_type": "code",
   "execution_count": null,
   "metadata": {},
   "outputs": [],
   "source": [
    "# 유니크한 종속변수들을 얻습니다.\n",
    "unique_targets = np.unique(y_val)\n",
    "\n",
    "# 테스트 데이터에 대한 예측을 한 번만 수행\n",
    "test_preds = model1.predict(X_val)\n",
    "test_pred_idx = [np.argmax(pred) for pred in test_preds]"
   ]
  },
  {
   "cell_type": "code",
   "execution_count": null,
   "metadata": {},
   "outputs": [],
   "source": [
    "np.unique(test_pred_idx)"
   ]
  },
  {
   "cell_type": "code",
   "execution_count": null,
   "metadata": {},
   "outputs": [],
   "source": [
    "test_pred_idx = np.array(test_pred_idx)"
   ]
  },
  {
   "cell_type": "code",
   "execution_count": null,
   "metadata": {},
   "outputs": [],
   "source": [
    "# 각 종속변수별 정확도를 저장할 데이터프레임\n",
    "accuracy_per_target = pd.DataFrame(index=unique_targets, columns=['accuracy'])"
   ]
  },
  {
   "cell_type": "code",
   "execution_count": null,
   "metadata": {},
   "outputs": [],
   "source": [
    "# 각 클래스별 정확도 계산\n",
    "class_accuracies = {}\n",
    "for i in np.unique(y_val):\n",
    "    idx = np.where(y_val == i)\n",
    "    correct = np.sum(test_pred_idx[idx] == y_val[idx])\n",
    "    total = len(idx[0])\n",
    "    class_accuracies[i] = correct / total\n",
    "    accuracy_per_target.loc[i, 'accuracy'] = class_accuracies[i]"
   ]
  },
  {
   "cell_type": "code",
   "execution_count": null,
   "metadata": {},
   "outputs": [],
   "source": [
    "accuracy_per_target"
   ]
  },
  {
   "cell_type": "code",
   "execution_count": null,
   "metadata": {},
   "outputs": [],
   "source": [
    "accuracy_per_target[\"Target\"] = cate"
   ]
  },
  {
   "cell_type": "code",
   "execution_count": null,
   "metadata": {},
   "outputs": [],
   "source": [
    "accuracy_df_sorted = accuracy_per_target.sort_values(by='accuracy', ascending=True)"
   ]
  },
  {
   "cell_type": "code",
   "execution_count": null,
   "metadata": {},
   "outputs": [],
   "source": [
    "accuracy_df_sorted.head(20)"
   ]
  },
  {
   "cell_type": "code",
   "execution_count": null,
   "metadata": {},
   "outputs": [],
   "source": []
  },
  {
   "cell_type": "code",
   "execution_count": null,
   "metadata": {},
   "outputs": [],
   "source": []
  },
  {
   "cell_type": "code",
   "execution_count": null,
   "metadata": {},
   "outputs": [],
   "source": []
  },
  {
   "cell_type": "code",
   "execution_count": null,
   "metadata": {},
   "outputs": [],
   "source": []
  }
 ],
 "metadata": {
  "kernelspec": {
   "display_name": "lp",
   "language": "python",
   "name": "python3"
  },
  "language_info": {
   "codemirror_mode": {
    "name": "ipython",
    "version": 3
   },
   "file_extension": ".py",
   "mimetype": "text/x-python",
   "name": "python",
   "nbconvert_exporter": "python",
   "pygments_lexer": "ipython3",
   "version": "3.9.18"
  },
  "orig_nbformat": 4
 },
 "nbformat": 4,
 "nbformat_minor": 2
}
