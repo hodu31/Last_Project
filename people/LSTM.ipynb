{
 "cells": [
  {
   "cell_type": "code",
   "execution_count": 1,
   "metadata": {},
   "outputs": [
    {
     "name": "stderr",
     "output_type": "stream",
     "text": [
      "c:\\Users\\de31\\anaconda3\\envs\\lp\\lib\\site-packages\\tensorflow\\python\\framework\\dtypes.py:205: DeprecationWarning: `np.bool8` is a deprecated alias for `np.bool_`.  (Deprecated NumPy 1.24)\n",
      "  np.bool8: (False, True),\n",
      "c:\\Users\\de31\\anaconda3\\envs\\lp\\lib\\site-packages\\tensorboard\\compat\\tensorflow_stub\\dtypes.py:326: DeprecationWarning: `np.bool8` is a deprecated alias for `np.bool_`.  (Deprecated NumPy 1.24)\n",
      "  np.bool8: (False, True),\n"
     ]
    }
   ],
   "source": [
    "import numpy as np\n",
    "from collections import namedtuple\n",
    "import cv2\n",
    "from pathlib import Path\n",
    "import argparse\n",
    "import os\n",
    "from openvino.inference_engine import IENetwork, IECore\n",
    "import csv\n",
    "import pandas as pd\n",
    "from sklearn.linear_model import LogisticRegression\n",
    "from sklearn.metrics import accuracy_score, confusion_matrix\n",
    "from tensorflow import keras"
   ]
  },
  {
   "cell_type": "markdown",
   "metadata": {},
   "source": [
    "## 전처리 먼저"
   ]
  },
  {
   "cell_type": "code",
   "execution_count": 2,
   "metadata": {},
   "outputs": [],
   "source": [
    "folder_path_1 = \"./data/구매(구매)\"\n",
    "folder_path_2 = \"./data/구매(반품)\"\n",
    "folder_path_3 = \"./data/구매(비교)\"\n",
    "folder_path_4 = \"./data/구매(선택)\"\n",
    "folder_path_5 = \"./data/구매(시험)\""
   ]
  },
  {
   "cell_type": "code",
   "execution_count": 3,
   "metadata": {},
   "outputs": [],
   "source": [
    "def concat(path):\n",
    "    file_lst = os.listdir(path)\n",
    "    df_list = []\n",
    "    for file in file_lst:\n",
    "        file_name = os.path.join(path, file)\n",
    "        df = pd.read_csv(file_name)\n",
    "        df = df[df.NUMOFBODIES != 0].reset_index(drop=True)\n",
    "        df['index_num'] = df.index\n",
    "        df_list.append(df)\n",
    "    #concat_df = pd.concat(df_list, ignore_index=True)\n",
    "    return df_list"
   ]
  },
  {
   "cell_type": "code",
   "execution_count": 4,
   "metadata": {},
   "outputs": [],
   "source": [
    "buy_mer = concat(folder_path_1)\n",
    "refund_mer = concat(folder_path_2)\n",
    "compar_mer = concat(folder_path_3)\n",
    "select_mer = concat(folder_path_4)\n",
    "test_mer = concat(folder_path_5)"
   ]
  },
  {
   "cell_type": "code",
   "execution_count": 5,
   "metadata": {},
   "outputs": [],
   "source": [
    "mer_lst = [buy_mer, refund_mer, compar_mer, select_mer, test_mer]"
   ]
  },
  {
   "cell_type": "code",
   "execution_count": 6,
   "metadata": {},
   "outputs": [],
   "source": [
    "def lengs(name):\n",
    "    lengths = []\n",
    "    for i in range(len(buy_mer)):\n",
    "        lengths.append(len(buy_mer[i]))\n",
    "    return lengths"
   ]
  },
  {
   "cell_type": "code",
   "execution_count": 7,
   "metadata": {},
   "outputs": [
    {
     "data": {
      "text/plain": [
       "[516, 516, 516, 516, 516]"
      ]
     },
     "execution_count": 7,
     "metadata": {},
     "output_type": "execute_result"
    }
   ],
   "source": [
    "lengsed = []\n",
    "for i in mer_lst:\n",
    "    lengsed.append(max(lengs(i)))\n",
    "lengsed"
   ]
  },
  {
   "cell_type": "code",
   "execution_count": 8,
   "metadata": {},
   "outputs": [],
   "source": [
    "buy_mer = pd.concat(buy_mer, ignore_index=True)\n",
    "refund_mer = pd.concat(refund_mer, ignore_index=True)\n",
    "compar_mer = pd.concat(compar_mer, ignore_index=True)\n",
    "select_mer = pd.concat(select_mer, ignore_index=True)\n",
    "test_mer = pd.concat(test_mer, ignore_index=True)"
   ]
  },
  {
   "cell_type": "code",
   "execution_count": 9,
   "metadata": {},
   "outputs": [],
   "source": [
    "buy_mer['LABEL'] = 0  \n",
    "refund_mer['LABEL'] = 1  \n",
    "compar_mer['LABEL'] = 2\n",
    "select_mer['LABEL'] = 3\n",
    "test_mer['LABEL'] = 4"
   ]
  },
  {
   "cell_type": "code",
   "execution_count": 10,
   "metadata": {},
   "outputs": [
    {
     "data": {
      "text/plain": [
       "(216342, 57)"
      ]
     },
     "execution_count": 10,
     "metadata": {},
     "output_type": "execute_result"
    }
   ],
   "source": [
    "category_lst = [buy_mer, refund_mer, compar_mer, select_mer, test_mer]\n",
    "full_data = pd.concat(category_lst, ignore_index=True)\n",
    "full_data.shape"
   ]
  },
  {
   "cell_type": "code",
   "execution_count": 11,
   "metadata": {},
   "outputs": [
    {
     "data": {
      "text/html": [
       "<div>\n",
       "<style scoped>\n",
       "    .dataframe tbody tr th:only-of-type {\n",
       "        vertical-align: middle;\n",
       "    }\n",
       "\n",
       "    .dataframe tbody tr th {\n",
       "        vertical-align: top;\n",
       "    }\n",
       "\n",
       "    .dataframe thead th {\n",
       "        text-align: right;\n",
       "    }\n",
       "</style>\n",
       "<table border=\"1\" class=\"dataframe\">\n",
       "  <thead>\n",
       "    <tr style=\"text-align: right;\">\n",
       "      <th></th>\n",
       "      <th>NUMOFBODIES</th>\n",
       "      <th>ID</th>\n",
       "      <th>PELVIS_X</th>\n",
       "      <th>PELVIS_Y</th>\n",
       "      <th>PELVIS_CONFIDENCE_LEVEL</th>\n",
       "      <th>SPINE_NAVAL_X</th>\n",
       "      <th>SPINE_NAVAL_Y</th>\n",
       "      <th>SPINE_NAVA_CONFIDENCE_LEVEL</th>\n",
       "      <th>SPINE_CHEST_X</th>\n",
       "      <th>SPINE_CHEST_Y</th>\n",
       "      <th>...</th>\n",
       "      <th>ANKLE_RIGHT_X</th>\n",
       "      <th>ANKLE_RIGHT_Y</th>\n",
       "      <th>ANKLE_RIGHT_CONFIDENCE_LEVEL</th>\n",
       "      <th>HEAD_X</th>\n",
       "      <th>HEAD_Y</th>\n",
       "      <th>HEAD_CONFIDENCE_LEVEL</th>\n",
       "      <th>TIMESTAMP</th>\n",
       "      <th>FRAME_NUM</th>\n",
       "      <th>index_num</th>\n",
       "      <th>LABEL</th>\n",
       "    </tr>\n",
       "  </thead>\n",
       "  <tbody>\n",
       "    <tr>\n",
       "      <th>0</th>\n",
       "      <td>1</td>\n",
       "      <td>0</td>\n",
       "      <td>346.55383</td>\n",
       "      <td>640.09490</td>\n",
       "      <td>2</td>\n",
       "      <td>316.11750</td>\n",
       "      <td>576.43010</td>\n",
       "      <td>2</td>\n",
       "      <td>280.24127</td>\n",
       "      <td>522.70620</td>\n",
       "      <td>...</td>\n",
       "      <td>434.75787</td>\n",
       "      <td>857.02515</td>\n",
       "      <td>2</td>\n",
       "      <td>239.81610</td>\n",
       "      <td>388.57196</td>\n",
       "      <td>2</td>\n",
       "      <td>14:46:38:326</td>\n",
       "      <td>63</td>\n",
       "      <td>0</td>\n",
       "      <td>0</td>\n",
       "    </tr>\n",
       "    <tr>\n",
       "      <th>1</th>\n",
       "      <td>1</td>\n",
       "      <td>0</td>\n",
       "      <td>374.96075</td>\n",
       "      <td>649.16760</td>\n",
       "      <td>2</td>\n",
       "      <td>356.46484</td>\n",
       "      <td>581.53500</td>\n",
       "      <td>2</td>\n",
       "      <td>337.61346</td>\n",
       "      <td>522.35820</td>\n",
       "      <td>...</td>\n",
       "      <td>387.14087</td>\n",
       "      <td>889.73960</td>\n",
       "      <td>2</td>\n",
       "      <td>265.55145</td>\n",
       "      <td>386.76953</td>\n",
       "      <td>2</td>\n",
       "      <td>14:46:38:435</td>\n",
       "      <td>66</td>\n",
       "      <td>1</td>\n",
       "      <td>0</td>\n",
       "    </tr>\n",
       "    <tr>\n",
       "      <th>2</th>\n",
       "      <td>1</td>\n",
       "      <td>0</td>\n",
       "      <td>429.70477</td>\n",
       "      <td>641.58417</td>\n",
       "      <td>2</td>\n",
       "      <td>411.60730</td>\n",
       "      <td>574.76430</td>\n",
       "      <td>2</td>\n",
       "      <td>388.89648</td>\n",
       "      <td>514.81540</td>\n",
       "      <td>...</td>\n",
       "      <td>392.70930</td>\n",
       "      <td>887.81946</td>\n",
       "      <td>2</td>\n",
       "      <td>331.37190</td>\n",
       "      <td>371.98608</td>\n",
       "      <td>2</td>\n",
       "      <td>14:46:38:518</td>\n",
       "      <td>69</td>\n",
       "      <td>2</td>\n",
       "      <td>0</td>\n",
       "    </tr>\n",
       "    <tr>\n",
       "      <th>3</th>\n",
       "      <td>1</td>\n",
       "      <td>0</td>\n",
       "      <td>495.43500</td>\n",
       "      <td>632.74255</td>\n",
       "      <td>2</td>\n",
       "      <td>477.77640</td>\n",
       "      <td>565.54290</td>\n",
       "      <td>2</td>\n",
       "      <td>457.34350</td>\n",
       "      <td>506.20636</td>\n",
       "      <td>...</td>\n",
       "      <td>410.20886</td>\n",
       "      <td>890.77374</td>\n",
       "      <td>2</td>\n",
       "      <td>402.76740</td>\n",
       "      <td>364.13617</td>\n",
       "      <td>2</td>\n",
       "      <td>14:46:38:630</td>\n",
       "      <td>72</td>\n",
       "      <td>3</td>\n",
       "      <td>0</td>\n",
       "    </tr>\n",
       "    <tr>\n",
       "      <th>4</th>\n",
       "      <td>1</td>\n",
       "      <td>0</td>\n",
       "      <td>547.60315</td>\n",
       "      <td>616.55760</td>\n",
       "      <td>2</td>\n",
       "      <td>527.22210</td>\n",
       "      <td>550.83923</td>\n",
       "      <td>2</td>\n",
       "      <td>507.37710</td>\n",
       "      <td>493.02690</td>\n",
       "      <td>...</td>\n",
       "      <td>479.45310</td>\n",
       "      <td>865.62000</td>\n",
       "      <td>2</td>\n",
       "      <td>463.35953</td>\n",
       "      <td>355.15625</td>\n",
       "      <td>2</td>\n",
       "      <td>14:46:38:726</td>\n",
       "      <td>75</td>\n",
       "      <td>4</td>\n",
       "      <td>0</td>\n",
       "    </tr>\n",
       "    <tr>\n",
       "      <th>...</th>\n",
       "      <td>...</td>\n",
       "      <td>...</td>\n",
       "      <td>...</td>\n",
       "      <td>...</td>\n",
       "      <td>...</td>\n",
       "      <td>...</td>\n",
       "      <td>...</td>\n",
       "      <td>...</td>\n",
       "      <td>...</td>\n",
       "      <td>...</td>\n",
       "      <td>...</td>\n",
       "      <td>...</td>\n",
       "      <td>...</td>\n",
       "      <td>...</td>\n",
       "      <td>...</td>\n",
       "      <td>...</td>\n",
       "      <td>...</td>\n",
       "      <td>...</td>\n",
       "      <td>...</td>\n",
       "      <td>...</td>\n",
       "      <td>...</td>\n",
       "    </tr>\n",
       "    <tr>\n",
       "      <th>216337</th>\n",
       "      <td>1</td>\n",
       "      <td>0</td>\n",
       "      <td>1219.71860</td>\n",
       "      <td>662.44730</td>\n",
       "      <td>2</td>\n",
       "      <td>1230.92520</td>\n",
       "      <td>595.02515</td>\n",
       "      <td>2</td>\n",
       "      <td>1241.39250</td>\n",
       "      <td>538.59045</td>\n",
       "      <td>...</td>\n",
       "      <td>1134.70500</td>\n",
       "      <td>834.97217</td>\n",
       "      <td>1</td>\n",
       "      <td>1259.37120</td>\n",
       "      <td>403.96295</td>\n",
       "      <td>2</td>\n",
       "      <td>14:27:45:651</td>\n",
       "      <td>1677</td>\n",
       "      <td>405</td>\n",
       "      <td>4</td>\n",
       "    </tr>\n",
       "    <tr>\n",
       "      <th>216338</th>\n",
       "      <td>1</td>\n",
       "      <td>0</td>\n",
       "      <td>1271.88180</td>\n",
       "      <td>657.77160</td>\n",
       "      <td>2</td>\n",
       "      <td>1284.57190</td>\n",
       "      <td>588.35345</td>\n",
       "      <td>2</td>\n",
       "      <td>1297.53440</td>\n",
       "      <td>530.39655</td>\n",
       "      <td>...</td>\n",
       "      <td>1153.70860</td>\n",
       "      <td>863.37646</td>\n",
       "      <td>1</td>\n",
       "      <td>1314.07570</td>\n",
       "      <td>397.72302</td>\n",
       "      <td>2</td>\n",
       "      <td>14:27:45:748</td>\n",
       "      <td>1680</td>\n",
       "      <td>406</td>\n",
       "      <td>4</td>\n",
       "    </tr>\n",
       "    <tr>\n",
       "      <th>216339</th>\n",
       "      <td>1</td>\n",
       "      <td>0</td>\n",
       "      <td>1323.66500</td>\n",
       "      <td>661.49490</td>\n",
       "      <td>2</td>\n",
       "      <td>1337.05540</td>\n",
       "      <td>592.91000</td>\n",
       "      <td>2</td>\n",
       "      <td>1345.43380</td>\n",
       "      <td>533.05840</td>\n",
       "      <td>...</td>\n",
       "      <td>1218.74740</td>\n",
       "      <td>910.22986</td>\n",
       "      <td>1</td>\n",
       "      <td>1374.46680</td>\n",
       "      <td>396.15400</td>\n",
       "      <td>2</td>\n",
       "      <td>14:27:45:849</td>\n",
       "      <td>1683</td>\n",
       "      <td>407</td>\n",
       "      <td>4</td>\n",
       "    </tr>\n",
       "    <tr>\n",
       "      <th>216340</th>\n",
       "      <td>1</td>\n",
       "      <td>0</td>\n",
       "      <td>1368.66480</td>\n",
       "      <td>671.92664</td>\n",
       "      <td>2</td>\n",
       "      <td>1383.66700</td>\n",
       "      <td>600.05210</td>\n",
       "      <td>2</td>\n",
       "      <td>1394.43500</td>\n",
       "      <td>538.26140</td>\n",
       "      <td>...</td>\n",
       "      <td>1271.17430</td>\n",
       "      <td>939.52026</td>\n",
       "      <td>1</td>\n",
       "      <td>1428.83910</td>\n",
       "      <td>403.51175</td>\n",
       "      <td>2</td>\n",
       "      <td>14:27:45:945</td>\n",
       "      <td>1686</td>\n",
       "      <td>408</td>\n",
       "      <td>4</td>\n",
       "    </tr>\n",
       "    <tr>\n",
       "      <th>216341</th>\n",
       "      <td>1</td>\n",
       "      <td>0</td>\n",
       "      <td>1415.38900</td>\n",
       "      <td>680.28595</td>\n",
       "      <td>2</td>\n",
       "      <td>1432.42770</td>\n",
       "      <td>608.30750</td>\n",
       "      <td>2</td>\n",
       "      <td>1448.64670</td>\n",
       "      <td>547.04486</td>\n",
       "      <td>...</td>\n",
       "      <td>1320.40310</td>\n",
       "      <td>957.84280</td>\n",
       "      <td>1</td>\n",
       "      <td>1494.46780</td>\n",
       "      <td>409.65778</td>\n",
       "      <td>2</td>\n",
       "      <td>14:27:46:057</td>\n",
       "      <td>1689</td>\n",
       "      <td>409</td>\n",
       "      <td>4</td>\n",
       "    </tr>\n",
       "  </tbody>\n",
       "</table>\n",
       "<p>216342 rows × 57 columns</p>\n",
       "</div>"
      ],
      "text/plain": [
       "        NUMOFBODIES  ID    PELVIS_X   PELVIS_Y  PELVIS_CONFIDENCE_LEVEL  \\\n",
       "0                 1   0   346.55383  640.09490                        2   \n",
       "1                 1   0   374.96075  649.16760                        2   \n",
       "2                 1   0   429.70477  641.58417                        2   \n",
       "3                 1   0   495.43500  632.74255                        2   \n",
       "4                 1   0   547.60315  616.55760                        2   \n",
       "...             ...  ..         ...        ...                      ...   \n",
       "216337            1   0  1219.71860  662.44730                        2   \n",
       "216338            1   0  1271.88180  657.77160                        2   \n",
       "216339            1   0  1323.66500  661.49490                        2   \n",
       "216340            1   0  1368.66480  671.92664                        2   \n",
       "216341            1   0  1415.38900  680.28595                        2   \n",
       "\n",
       "        SPINE_NAVAL_X  SPINE_NAVAL_Y  SPINE_NAVA_CONFIDENCE_LEVEL  \\\n",
       "0           316.11750      576.43010                            2   \n",
       "1           356.46484      581.53500                            2   \n",
       "2           411.60730      574.76430                            2   \n",
       "3           477.77640      565.54290                            2   \n",
       "4           527.22210      550.83923                            2   \n",
       "...               ...            ...                          ...   \n",
       "216337     1230.92520      595.02515                            2   \n",
       "216338     1284.57190      588.35345                            2   \n",
       "216339     1337.05540      592.91000                            2   \n",
       "216340     1383.66700      600.05210                            2   \n",
       "216341     1432.42770      608.30750                            2   \n",
       "\n",
       "        SPINE_CHEST_X  SPINE_CHEST_Y  ...  ANKLE_RIGHT_X  ANKLE_RIGHT_Y  \\\n",
       "0           280.24127      522.70620  ...      434.75787      857.02515   \n",
       "1           337.61346      522.35820  ...      387.14087      889.73960   \n",
       "2           388.89648      514.81540  ...      392.70930      887.81946   \n",
       "3           457.34350      506.20636  ...      410.20886      890.77374   \n",
       "4           507.37710      493.02690  ...      479.45310      865.62000   \n",
       "...               ...            ...  ...            ...            ...   \n",
       "216337     1241.39250      538.59045  ...     1134.70500      834.97217   \n",
       "216338     1297.53440      530.39655  ...     1153.70860      863.37646   \n",
       "216339     1345.43380      533.05840  ...     1218.74740      910.22986   \n",
       "216340     1394.43500      538.26140  ...     1271.17430      939.52026   \n",
       "216341     1448.64670      547.04486  ...     1320.40310      957.84280   \n",
       "\n",
       "        ANKLE_RIGHT_CONFIDENCE_LEVEL      HEAD_X     HEAD_Y  \\\n",
       "0                                  2   239.81610  388.57196   \n",
       "1                                  2   265.55145  386.76953   \n",
       "2                                  2   331.37190  371.98608   \n",
       "3                                  2   402.76740  364.13617   \n",
       "4                                  2   463.35953  355.15625   \n",
       "...                              ...         ...        ...   \n",
       "216337                             1  1259.37120  403.96295   \n",
       "216338                             1  1314.07570  397.72302   \n",
       "216339                             1  1374.46680  396.15400   \n",
       "216340                             1  1428.83910  403.51175   \n",
       "216341                             1  1494.46780  409.65778   \n",
       "\n",
       "        HEAD_CONFIDENCE_LEVEL     TIMESTAMP  FRAME_NUM  index_num  LABEL  \n",
       "0                           2  14:46:38:326         63          0      0  \n",
       "1                           2  14:46:38:435         66          1      0  \n",
       "2                           2  14:46:38:518         69          2      0  \n",
       "3                           2  14:46:38:630         72          3      0  \n",
       "4                           2  14:46:38:726         75          4      0  \n",
       "...                       ...           ...        ...        ...    ...  \n",
       "216337                      2  14:27:45:651       1677        405      4  \n",
       "216338                      2  14:27:45:748       1680        406      4  \n",
       "216339                      2  14:27:45:849       1683        407      4  \n",
       "216340                      2  14:27:45:945       1686        408      4  \n",
       "216341                      2  14:27:46:057       1689        409      4  \n",
       "\n",
       "[216342 rows x 57 columns]"
      ]
     },
     "execution_count": 11,
     "metadata": {},
     "output_type": "execute_result"
    }
   ],
   "source": [
    "full_data"
   ]
  },
  {
   "cell_type": "code",
   "execution_count": 12,
   "metadata": {},
   "outputs": [],
   "source": [
    "# 데이터와 레이블을 추출합니다.\n",
    "data_without_label = full_data.drop(['ID','LABEL', 'TIMESTAMP', 'FRAME_NUM','PELVIS_CONFIDENCE_LEVEL', 'SPINE_NAVA_CONFIDENCE_LEVEL', 'SPINE_CHEST_CONFIDENCE_LEVEL', 'NECK_CONFIDENCE_LEVEL', \n",
    "                                     'SHOULDER_LEFT_CONFIDENCE_LEVEL', 'ELBOW_LEFT_CONFIDENCE_LEVEL', 'WRIST_LEFT_CONFIDENCE_LEVEL', 'SHOULDER_RIGHT_CONFIDENCE_LEVEL', \n",
    "                                     'ELBOW_RIGHT_CONFIDENCE_LEVEL', 'WRIST_RIGHT_CONFIDENCE_LEVEL', 'HIP_LEFT_CONFIDENCE_LEVEL', 'KNEE_LEFT_CONFIDENCE_LEVEL', 'ANKLE_LEFT_CONFIDENCE_LEVEL',\n",
    "                                     'HIP_RIGHT_CONFIDENCE_LEVEL', 'KNEE_RIGHT_CONFIDENCE_LEVEL', 'ANKLE_RIGHT_CONFIDENCE_LEVEL', 'HEAD_CONFIDENCE_LEVEL'], axis=1).values\n",
    "label_data = full_data['LABEL'].values"
   ]
  },
  {
   "cell_type": "code",
   "execution_count": 13,
   "metadata": {},
   "outputs": [
    {
     "data": {
      "text/plain": [
       "(array([0, 1, 2, 3, 4], dtype=int64),\n",
       " array([43326, 42404, 44687, 43122, 42803], dtype=int64))"
      ]
     },
     "execution_count": 13,
     "metadata": {},
     "output_type": "execute_result"
    }
   ],
   "source": [
    "np.unique(label_data, return_counts=True)"
   ]
  },
  {
   "cell_type": "code",
   "execution_count": 14,
   "metadata": {},
   "outputs": [
    {
     "data": {
      "text/plain": [
       "(array([-111.89874, -105.88568,  -94.12323, ..., 2028.04   , 2040.5305 ,\n",
       "        2073.094  ]),\n",
       " array([1, 1, 1, ..., 1, 1, 1], dtype=int64))"
      ]
     },
     "execution_count": 14,
     "metadata": {},
     "output_type": "execute_result"
    }
   ],
   "source": [
    "np.unique(data_without_label, return_counts=True)"
   ]
  },
  {
   "cell_type": "code",
   "execution_count": 16,
   "metadata": {},
   "outputs": [],
   "source": [
    "import tensorflow as tf\n",
    "from sklearn.model_selection import train_test_split\n",
    "\n",
    "# 1. Data Splitting\n",
    "# 데이터 분할\n",
    "X_train, X_temp, y_train, y_temp = train_test_split(data_without_label, label_data, test_size=0.3, random_state=42)\n",
    "X_val, X_test, y_val, y_test = train_test_split(X_temp, y_temp, test_size=0.3, random_state=42)"
   ]
  },
  {
   "cell_type": "code",
   "execution_count": 17,
   "metadata": {},
   "outputs": [
    {
     "name": "stdout",
     "output_type": "stream",
     "text": [
      "float64 int64\n"
     ]
    }
   ],
   "source": [
    "print(X_train.dtype, y_train.dtype)  # 현재의 데이터 타입 확인"
   ]
  },
  {
   "cell_type": "code",
   "execution_count": 31,
   "metadata": {},
   "outputs": [
    {
     "data": {
      "text/plain": [
       "2073.094"
      ]
     },
     "execution_count": 31,
     "metadata": {},
     "output_type": "execute_result"
    }
   ],
   "source": [
    "X_train.max()"
   ]
  },
  {
   "cell_type": "code",
   "execution_count": 34,
   "metadata": {},
   "outputs": [
    {
     "ename": "ValueError",
     "evalue": "Input 0 of layer \"lstm_13\" is incompatible with the layer: expected ndim=3, found ndim=2. Full shape received: (None, 64)",
     "output_type": "error",
     "traceback": [
      "\u001b[1;31m---------------------------------------------------------------------------\u001b[0m",
      "\u001b[1;31mValueError\u001b[0m                                Traceback (most recent call last)",
      "\u001b[1;32mc:\\Last_Project\\관절로때려맞추기모델\\LSTM.ipynb 셀 19\u001b[0m line \u001b[0;36m7\n\u001b[0;32m      <a href='vscode-notebook-cell:/c%3A/Last_Project/%EA%B4%80%EC%A0%88%EB%A1%9C%EB%95%8C%EB%A0%A4%EB%A7%9E%EC%B6%94%EA%B8%B0%EB%AA%A8%EB%8D%B8/LSTM.ipynb#X42sZmlsZQ%3D%3D?line=3'>4</a>\u001b[0m embedding_dimension \u001b[39m=\u001b[39m \u001b[39m100\u001b[39m\n\u001b[0;32m      <a href='vscode-notebook-cell:/c%3A/Last_Project/%EA%B4%80%EC%A0%88%EB%A1%9C%EB%95%8C%EB%A0%A4%EB%A7%9E%EC%B6%94%EA%B8%B0%EB%AA%A8%EB%8D%B8/LSTM.ipynb#X42sZmlsZQ%3D%3D?line=4'>5</a>\u001b[0m sequence_length \u001b[39m=\u001b[39m \u001b[39m516\u001b[39m  \u001b[39m# Or the correct length of your sequences.\u001b[39;00m\n\u001b[1;32m----> <a href='vscode-notebook-cell:/c%3A/Last_Project/%EA%B4%80%EC%A0%88%EB%A1%9C%EB%95%8C%EB%A0%A4%EB%A7%9E%EC%B6%94%EA%B8%B0%EB%AA%A8%EB%8D%B8/LSTM.ipynb#X42sZmlsZQ%3D%3D?line=6'>7</a>\u001b[0m model \u001b[39m=\u001b[39m tf\u001b[39m.\u001b[39;49mkeras\u001b[39m.\u001b[39;49mSequential([\n\u001b[0;32m      <a href='vscode-notebook-cell:/c%3A/Last_Project/%EA%B4%80%EC%A0%88%EB%A1%9C%EB%95%8C%EB%A0%A4%EB%A7%9E%EC%B6%94%EA%B8%B0%EB%AA%A8%EB%8D%B8/LSTM.ipynb#X42sZmlsZQ%3D%3D?line=7'>8</a>\u001b[0m     tf\u001b[39m.\u001b[39;49mkeras\u001b[39m.\u001b[39;49mlayers\u001b[39m.\u001b[39;49mEmbedding(vocab_size, embedding_dimension, input_length\u001b[39m=\u001b[39;49msequence_length),\n\u001b[0;32m      <a href='vscode-notebook-cell:/c%3A/Last_Project/%EA%B4%80%EC%A0%88%EB%A1%9C%EB%95%8C%EB%A0%A4%EB%A7%9E%EC%B6%94%EA%B8%B0%EB%AA%A8%EB%8D%B8/LSTM.ipynb#X42sZmlsZQ%3D%3D?line=8'>9</a>\u001b[0m     tf\u001b[39m.\u001b[39;49mkeras\u001b[39m.\u001b[39;49mlayers\u001b[39m.\u001b[39;49mLSTM(\u001b[39m64\u001b[39;49m),\n\u001b[0;32m     <a href='vscode-notebook-cell:/c%3A/Last_Project/%EA%B4%80%EC%A0%88%EB%A1%9C%EB%95%8C%EB%A0%A4%EB%A7%9E%EC%B6%94%EA%B8%B0%EB%AA%A8%EB%8D%B8/LSTM.ipynb#X42sZmlsZQ%3D%3D?line=9'>10</a>\u001b[0m     tf\u001b[39m.\u001b[39;49mkeras\u001b[39m.\u001b[39;49mlayers\u001b[39m.\u001b[39;49mDropout(\u001b[39m0.2\u001b[39;49m),\n\u001b[0;32m     <a href='vscode-notebook-cell:/c%3A/Last_Project/%EA%B4%80%EC%A0%88%EB%A1%9C%EB%95%8C%EB%A0%A4%EB%A7%9E%EC%B6%94%EA%B8%B0%EB%AA%A8%EB%8D%B8/LSTM.ipynb#X42sZmlsZQ%3D%3D?line=10'>11</a>\u001b[0m     tf\u001b[39m.\u001b[39;49mkeras\u001b[39m.\u001b[39;49mlayers\u001b[39m.\u001b[39;49mLSTM(\u001b[39m32\u001b[39;49m),\n\u001b[0;32m     <a href='vscode-notebook-cell:/c%3A/Last_Project/%EA%B4%80%EC%A0%88%EB%A1%9C%EB%95%8C%EB%A0%A4%EB%A7%9E%EC%B6%94%EA%B8%B0%EB%AA%A8%EB%8D%B8/LSTM.ipynb#X42sZmlsZQ%3D%3D?line=11'>12</a>\u001b[0m     tf\u001b[39m.\u001b[39;49mkeras\u001b[39m.\u001b[39;49mlayers\u001b[39m.\u001b[39;49mDropout(\u001b[39m0.2\u001b[39;49m),\n\u001b[0;32m     <a href='vscode-notebook-cell:/c%3A/Last_Project/%EA%B4%80%EC%A0%88%EB%A1%9C%EB%95%8C%EB%A0%A4%EB%A7%9E%EC%B6%94%EA%B8%B0%EB%AA%A8%EB%8D%B8/LSTM.ipynb#X42sZmlsZQ%3D%3D?line=12'>13</a>\u001b[0m     tf\u001b[39m.\u001b[39;49mkeras\u001b[39m.\u001b[39;49mlayers\u001b[39m.\u001b[39;49mDense(\u001b[39m5\u001b[39;49m, activation\u001b[39m=\u001b[39;49m\u001b[39m'\u001b[39;49m\u001b[39msoftmax\u001b[39;49m\u001b[39m'\u001b[39;49m)  \u001b[39m# 5 classes\u001b[39;49;00m\n\u001b[0;32m     <a href='vscode-notebook-cell:/c%3A/Last_Project/%EA%B4%80%EC%A0%88%EB%A1%9C%EB%95%8C%EB%A0%A4%EB%A7%9E%EC%B6%94%EA%B8%B0%EB%AA%A8%EB%8D%B8/LSTM.ipynb#X42sZmlsZQ%3D%3D?line=13'>14</a>\u001b[0m ])\n",
      "File \u001b[1;32mc:\\Users\\de31\\anaconda3\\envs\\lp\\lib\\site-packages\\tensorflow\\python\\training\\tracking\\base.py:629\u001b[0m, in \u001b[0;36mno_automatic_dependency_tracking.<locals>._method_wrapper\u001b[1;34m(self, *args, **kwargs)\u001b[0m\n\u001b[0;32m    627\u001b[0m \u001b[39mself\u001b[39m\u001b[39m.\u001b[39m_self_setattr_tracking \u001b[39m=\u001b[39m \u001b[39mFalse\u001b[39;00m  \u001b[39m# pylint: disable=protected-access\u001b[39;00m\n\u001b[0;32m    628\u001b[0m \u001b[39mtry\u001b[39;00m:\n\u001b[1;32m--> 629\u001b[0m   result \u001b[39m=\u001b[39m method(\u001b[39mself\u001b[39m, \u001b[39m*\u001b[39margs, \u001b[39m*\u001b[39m\u001b[39m*\u001b[39mkwargs)\n\u001b[0;32m    630\u001b[0m \u001b[39mfinally\u001b[39;00m:\n\u001b[0;32m    631\u001b[0m   \u001b[39mself\u001b[39m\u001b[39m.\u001b[39m_self_setattr_tracking \u001b[39m=\u001b[39m previous_value  \u001b[39m# pylint: disable=protected-access\u001b[39;00m\n",
      "File \u001b[1;32mc:\\Users\\de31\\anaconda3\\envs\\lp\\lib\\site-packages\\keras\\utils\\traceback_utils.py:67\u001b[0m, in \u001b[0;36mfilter_traceback.<locals>.error_handler\u001b[1;34m(*args, **kwargs)\u001b[0m\n\u001b[0;32m     65\u001b[0m \u001b[39mexcept\u001b[39;00m \u001b[39mException\u001b[39;00m \u001b[39mas\u001b[39;00m e:  \u001b[39m# pylint: disable=broad-except\u001b[39;00m\n\u001b[0;32m     66\u001b[0m   filtered_tb \u001b[39m=\u001b[39m _process_traceback_frames(e\u001b[39m.\u001b[39m__traceback__)\n\u001b[1;32m---> 67\u001b[0m   \u001b[39mraise\u001b[39;00m e\u001b[39m.\u001b[39mwith_traceback(filtered_tb) \u001b[39mfrom\u001b[39;00m \u001b[39mNone\u001b[39;00m\n\u001b[0;32m     68\u001b[0m \u001b[39mfinally\u001b[39;00m:\n\u001b[0;32m     69\u001b[0m   \u001b[39mdel\u001b[39;00m filtered_tb\n",
      "File \u001b[1;32mc:\\Users\\de31\\anaconda3\\envs\\lp\\lib\\site-packages\\keras\\engine\\input_spec.py:214\u001b[0m, in \u001b[0;36massert_input_compatibility\u001b[1;34m(input_spec, inputs, layer_name)\u001b[0m\n\u001b[0;32m    212\u001b[0m   ndim \u001b[39m=\u001b[39m shape\u001b[39m.\u001b[39mrank\n\u001b[0;32m    213\u001b[0m   \u001b[39mif\u001b[39;00m ndim \u001b[39m!=\u001b[39m spec\u001b[39m.\u001b[39mndim:\n\u001b[1;32m--> 214\u001b[0m     \u001b[39mraise\u001b[39;00m \u001b[39mValueError\u001b[39;00m(\u001b[39mf\u001b[39m\u001b[39m'\u001b[39m\u001b[39mInput \u001b[39m\u001b[39m{\u001b[39;00minput_index\u001b[39m}\u001b[39;00m\u001b[39m of layer \u001b[39m\u001b[39m\"\u001b[39m\u001b[39m{\u001b[39;00mlayer_name\u001b[39m}\u001b[39;00m\u001b[39m\"\u001b[39m\u001b[39m \u001b[39m\u001b[39m'\u001b[39m\n\u001b[0;32m    215\u001b[0m                      \u001b[39m'\u001b[39m\u001b[39mis incompatible with the layer: \u001b[39m\u001b[39m'\u001b[39m\n\u001b[0;32m    216\u001b[0m                      \u001b[39mf\u001b[39m\u001b[39m'\u001b[39m\u001b[39mexpected ndim=\u001b[39m\u001b[39m{\u001b[39;00mspec\u001b[39m.\u001b[39mndim\u001b[39m}\u001b[39;00m\u001b[39m, found ndim=\u001b[39m\u001b[39m{\u001b[39;00mndim\u001b[39m}\u001b[39;00m\u001b[39m. \u001b[39m\u001b[39m'\u001b[39m\n\u001b[0;32m    217\u001b[0m                      \u001b[39mf\u001b[39m\u001b[39m'\u001b[39m\u001b[39mFull shape received: \u001b[39m\u001b[39m{\u001b[39;00m\u001b[39mtuple\u001b[39m(shape)\u001b[39m}\u001b[39;00m\u001b[39m'\u001b[39m)\n\u001b[0;32m    218\u001b[0m \u001b[39mif\u001b[39;00m spec\u001b[39m.\u001b[39mmax_ndim \u001b[39mis\u001b[39;00m \u001b[39mnot\u001b[39;00m \u001b[39mNone\u001b[39;00m:\n\u001b[0;32m    219\u001b[0m   ndim \u001b[39m=\u001b[39m x\u001b[39m.\u001b[39mshape\u001b[39m.\u001b[39mrank\n",
      "\u001b[1;31mValueError\u001b[0m: Input 0 of layer \"lstm_13\" is incompatible with the layer: expected ndim=3, found ndim=2. Full shape received: (None, 64)"
     ]
    }
   ],
   "source": [
    "import tensorflow as tf\n",
    "\n",
    "vocab_size = 2074  # This should be the maximum integer value in X_train plus one.\n",
    "embedding_dimension = 100\n",
    "sequence_length = 516  # Or the correct length of your sequences.\n",
    "\n",
    "model = tf.keras.Sequential([\n",
    "    tf.keras.layers.Embedding(vocab_size, embedding_dimension, input_length=sequence_length),\n",
    "    tf.keras.layers.LSTM(64),\n",
    "    tf.keras.layers.Dropout(0.2),\n",
    "    tf.keras.layers.LSTM(32),\n",
    "    tf.keras.layers.Dropout(0.2),\n",
    "    tf.keras.layers.Dense(5, activation='softmax')  # 5 classes\n",
    "])"
   ]
  },
  {
   "cell_type": "markdown",
   "metadata": {},
   "source": []
  },
  {
   "cell_type": "code",
   "execution_count": 27,
   "metadata": {},
   "outputs": [
    {
     "name": "stdout",
     "output_type": "stream",
     "text": [
      "Epoch 1/1000\n"
     ]
    },
    {
     "ename": "ValueError",
     "evalue": "in user code:\n\n    File \"c:\\Users\\de31\\anaconda3\\envs\\lp\\lib\\site-packages\\keras\\engine\\training.py\", line 1021, in train_function  *\n        return step_function(self, iterator)\n    File \"c:\\Users\\de31\\anaconda3\\envs\\lp\\lib\\site-packages\\keras\\engine\\training.py\", line 1010, in step_function  **\n        outputs = model.distribute_strategy.run(run_step, args=(data,))\n    File \"c:\\Users\\de31\\anaconda3\\envs\\lp\\lib\\site-packages\\keras\\engine\\training.py\", line 1000, in run_step  **\n        outputs = model.train_step(data)\n    File \"c:\\Users\\de31\\anaconda3\\envs\\lp\\lib\\site-packages\\keras\\engine\\training.py\", line 859, in train_step\n        y_pred = self(x, training=True)\n    File \"c:\\Users\\de31\\anaconda3\\envs\\lp\\lib\\site-packages\\keras\\utils\\traceback_utils.py\", line 67, in error_handler\n        raise e.with_traceback(filtered_tb) from None\n    File \"c:\\Users\\de31\\anaconda3\\envs\\lp\\lib\\site-packages\\keras\\engine\\input_spec.py\", line 264, in assert_input_compatibility\n        raise ValueError(f'Input {input_index} of layer \"{layer_name}\" is '\n\n    ValueError: Input 0 of layer \"sequential\" is incompatible with the layer: expected shape=(None, 151439, 36), found shape=(None, 36)\n",
     "output_type": "error",
     "traceback": [
      "\u001b[1;31m---------------------------------------------------------------------------\u001b[0m",
      "\u001b[1;31mValueError\u001b[0m                                Traceback (most recent call last)",
      "\u001b[1;32mc:\\Last_Project\\관절로때려맞추기모델\\LSTM.ipynb 셀 20\u001b[0m line \u001b[0;36m1\n\u001b[0;32m      <a href='vscode-notebook-cell:/c%3A/Last_Project/%EA%B4%80%EC%A0%88%EB%A1%9C%EB%95%8C%EB%A0%A4%EB%A7%9E%EC%B6%94%EA%B8%B0%EB%AA%A8%EB%8D%B8/LSTM.ipynb#Y100sZmlsZQ%3D%3D?line=6'>7</a>\u001b[0m early_stopping_cb \u001b[39m=\u001b[39m keras\u001b[39m.\u001b[39mcallbacks\u001b[39m.\u001b[39mEarlyStopping(patience\u001b[39m=\u001b[39m\u001b[39m10\u001b[39m,\n\u001b[0;32m      <a href='vscode-notebook-cell:/c%3A/Last_Project/%EA%B4%80%EC%A0%88%EB%A1%9C%EB%95%8C%EB%A0%A4%EB%A7%9E%EC%B6%94%EA%B8%B0%EB%AA%A8%EB%8D%B8/LSTM.ipynb#Y100sZmlsZQ%3D%3D?line=7'>8</a>\u001b[0m                                         restore_best_weights\u001b[39m=\u001b[39m\u001b[39mTrue\u001b[39;00m)\n\u001b[0;32m     <a href='vscode-notebook-cell:/c%3A/Last_Project/%EA%B4%80%EC%A0%88%EB%A1%9C%EB%95%8C%EB%A0%A4%EB%A7%9E%EC%B6%94%EA%B8%B0%EB%AA%A8%EB%8D%B8/LSTM.ipynb#Y100sZmlsZQ%3D%3D?line=10'>11</a>\u001b[0m \u001b[39m# 4. Model Training\u001b[39;00m\n\u001b[0;32m     <a href='vscode-notebook-cell:/c%3A/Last_Project/%EA%B4%80%EC%A0%88%EB%A1%9C%EB%95%8C%EB%A0%A4%EB%A7%9E%EC%B6%94%EA%B8%B0%EB%AA%A8%EB%8D%B8/LSTM.ipynb#Y100sZmlsZQ%3D%3D?line=11'>12</a>\u001b[0m \u001b[39m# 모델 훈련\u001b[39;00m\n\u001b[1;32m---> <a href='vscode-notebook-cell:/c%3A/Last_Project/%EA%B4%80%EC%A0%88%EB%A1%9C%EB%95%8C%EB%A0%A4%EB%A7%9E%EC%B6%94%EA%B8%B0%EB%AA%A8%EB%8D%B8/LSTM.ipynb#Y100sZmlsZQ%3D%3D?line=12'>13</a>\u001b[0m history \u001b[39m=\u001b[39m model\u001b[39m.\u001b[39;49mfit(X_train, y_train, validation_data\u001b[39m=\u001b[39;49m(X_val, y_val), epochs\u001b[39m=\u001b[39;49m\u001b[39m1000\u001b[39;49m,\n\u001b[0;32m     <a href='vscode-notebook-cell:/c%3A/Last_Project/%EA%B4%80%EC%A0%88%EB%A1%9C%EB%95%8C%EB%A0%A4%EB%A7%9E%EC%B6%94%EA%B8%B0%EB%AA%A8%EB%8D%B8/LSTM.ipynb#Y100sZmlsZQ%3D%3D?line=13'>14</a>\u001b[0m                     batch_size\u001b[39m=\u001b[39;49m\u001b[39m32\u001b[39;49m, callbacks\u001b[39m=\u001b[39;49m[checkpoint_cb, early_stopping_cb])\n\u001b[0;32m     <a href='vscode-notebook-cell:/c%3A/Last_Project/%EA%B4%80%EC%A0%88%EB%A1%9C%EB%95%8C%EB%A0%A4%EB%A7%9E%EC%B6%94%EA%B8%B0%EB%AA%A8%EB%8D%B8/LSTM.ipynb#Y100sZmlsZQ%3D%3D?line=15'>16</a>\u001b[0m \u001b[39m# 5. Model Evaluation\u001b[39;00m\n\u001b[0;32m     <a href='vscode-notebook-cell:/c%3A/Last_Project/%EA%B4%80%EC%A0%88%EB%A1%9C%EB%95%8C%EB%A0%A4%EB%A7%9E%EC%B6%94%EA%B8%B0%EB%AA%A8%EB%8D%B8/LSTM.ipynb#Y100sZmlsZQ%3D%3D?line=16'>17</a>\u001b[0m \u001b[39m# 모델 평가\u001b[39;00m\n\u001b[0;32m     <a href='vscode-notebook-cell:/c%3A/Last_Project/%EA%B4%80%EC%A0%88%EB%A1%9C%EB%95%8C%EB%A0%A4%EB%A7%9E%EC%B6%94%EA%B8%B0%EB%AA%A8%EB%8D%B8/LSTM.ipynb#Y100sZmlsZQ%3D%3D?line=17'>18</a>\u001b[0m loss, accuracy \u001b[39m=\u001b[39m model\u001b[39m.\u001b[39mevaluate(X_test, y_test)\n",
      "File \u001b[1;32mc:\\Users\\de31\\anaconda3\\envs\\lp\\lib\\site-packages\\keras\\utils\\traceback_utils.py:67\u001b[0m, in \u001b[0;36mfilter_traceback.<locals>.error_handler\u001b[1;34m(*args, **kwargs)\u001b[0m\n\u001b[0;32m     65\u001b[0m \u001b[39mexcept\u001b[39;00m \u001b[39mException\u001b[39;00m \u001b[39mas\u001b[39;00m e:  \u001b[39m# pylint: disable=broad-except\u001b[39;00m\n\u001b[0;32m     66\u001b[0m   filtered_tb \u001b[39m=\u001b[39m _process_traceback_frames(e\u001b[39m.\u001b[39m__traceback__)\n\u001b[1;32m---> 67\u001b[0m   \u001b[39mraise\u001b[39;00m e\u001b[39m.\u001b[39mwith_traceback(filtered_tb) \u001b[39mfrom\u001b[39;00m \u001b[39mNone\u001b[39;00m\n\u001b[0;32m     68\u001b[0m \u001b[39mfinally\u001b[39;00m:\n\u001b[0;32m     69\u001b[0m   \u001b[39mdel\u001b[39;00m filtered_tb\n",
      "File \u001b[1;32mc:\\Users\\de31\\anaconda3\\envs\\lp\\lib\\site-packages\\tensorflow\\python\\framework\\func_graph.py:1147\u001b[0m, in \u001b[0;36mfunc_graph_from_py_func.<locals>.autograph_handler\u001b[1;34m(*args, **kwargs)\u001b[0m\n\u001b[0;32m   1145\u001b[0m \u001b[39mexcept\u001b[39;00m \u001b[39mException\u001b[39;00m \u001b[39mas\u001b[39;00m e:  \u001b[39m# pylint:disable=broad-except\u001b[39;00m\n\u001b[0;32m   1146\u001b[0m   \u001b[39mif\u001b[39;00m \u001b[39mhasattr\u001b[39m(e, \u001b[39m\"\u001b[39m\u001b[39mag_error_metadata\u001b[39m\u001b[39m\"\u001b[39m):\n\u001b[1;32m-> 1147\u001b[0m     \u001b[39mraise\u001b[39;00m e\u001b[39m.\u001b[39mag_error_metadata\u001b[39m.\u001b[39mto_exception(e)\n\u001b[0;32m   1148\u001b[0m   \u001b[39melse\u001b[39;00m:\n\u001b[0;32m   1149\u001b[0m     \u001b[39mraise\u001b[39;00m\n",
      "\u001b[1;31mValueError\u001b[0m: in user code:\n\n    File \"c:\\Users\\de31\\anaconda3\\envs\\lp\\lib\\site-packages\\keras\\engine\\training.py\", line 1021, in train_function  *\n        return step_function(self, iterator)\n    File \"c:\\Users\\de31\\anaconda3\\envs\\lp\\lib\\site-packages\\keras\\engine\\training.py\", line 1010, in step_function  **\n        outputs = model.distribute_strategy.run(run_step, args=(data,))\n    File \"c:\\Users\\de31\\anaconda3\\envs\\lp\\lib\\site-packages\\keras\\engine\\training.py\", line 1000, in run_step  **\n        outputs = model.train_step(data)\n    File \"c:\\Users\\de31\\anaconda3\\envs\\lp\\lib\\site-packages\\keras\\engine\\training.py\", line 859, in train_step\n        y_pred = self(x, training=True)\n    File \"c:\\Users\\de31\\anaconda3\\envs\\lp\\lib\\site-packages\\keras\\utils\\traceback_utils.py\", line 67, in error_handler\n        raise e.with_traceback(filtered_tb) from None\n    File \"c:\\Users\\de31\\anaconda3\\envs\\lp\\lib\\site-packages\\keras\\engine\\input_spec.py\", line 264, in assert_input_compatibility\n        raise ValueError(f'Input {input_index} of layer \"{layer_name}\" is '\n\n    ValueError: Input 0 of layer \"sequential\" is incompatible with the layer: expected shape=(None, 151439, 36), found shape=(None, 36)\n"
     ]
    }
   ],
   "source": [
    "\n",
    "# 3. Model Compilation\n",
    "# 모델 컴파일\n",
    "model.compile(optimizer='adam', loss='sparse_categorical_crossentropy', metrics=['accuracy'])\n",
    "model_file_path = \"./model/best_lstm_model.h5\"\n",
    "checkpoint_cb = keras.callbacks.ModelCheckpoint(model_file_path)\n",
    "# - 자동 훈련 멈추기 함수 사용 : 추가 훈련 epoch 2회, 가중치 업데이트\n",
    "early_stopping_cb = keras.callbacks.EarlyStopping(patience=10,\n",
    "                                        restore_best_weights=True)\n",
    "\n",
    "\n",
    "# 4. Model Training\n",
    "# 모델 훈련\n",
    "history = model.fit(X_train, y_train, validation_data=(X_val, y_val), epochs=1000,\n",
    "                    batch_size=32, callbacks=[checkpoint_cb, early_stopping_cb])\n",
    "\n",
    "# 5. Model Evaluation\n",
    "# 모델 평가\n",
    "loss, accuracy = model.evaluate(X_test, y_test)\n",
    "print(f\"Test Accuracy: {accuracy*100:.2f}%\")\n"
   ]
  },
  {
   "cell_type": "code",
   "execution_count": null,
   "metadata": {},
   "outputs": [],
   "source": [
    "model.summary()"
   ]
  },
  {
   "cell_type": "code",
   "execution_count": 7,
   "metadata": {},
   "outputs": [],
   "source": [
    "age = {1:{2: \"도도둑\"}}"
   ]
  },
  {
   "cell_type": "code",
   "execution_count": 8,
   "metadata": {},
   "outputs": [],
   "source": [
    "age[1][2] = 'eh' "
   ]
  },
  {
   "cell_type": "code",
   "execution_count": 9,
   "metadata": {},
   "outputs": [
    {
     "data": {
      "text/plain": [
       "{1: {2: 'eh'}}"
      ]
     },
     "execution_count": 9,
     "metadata": {},
     "output_type": "execute_result"
    }
   ],
   "source": []
  },
  {
   "cell_type": "code",
   "execution_count": null,
   "metadata": {},
   "outputs": [],
   "source": []
  },
  {
   "cell_type": "code",
   "execution_count": null,
   "metadata": {},
   "outputs": [],
   "source": []
  },
  {
   "cell_type": "code",
   "execution_count": null,
   "metadata": {},
   "outputs": [],
   "source": []
  },
  {
   "cell_type": "code",
   "execution_count": null,
   "metadata": {},
   "outputs": [],
   "source": []
  }
 ],
 "metadata": {
  "kernelspec": {
   "display_name": "lp",
   "language": "python",
   "name": "python3"
  },
  "language_info": {
   "codemirror_mode": {
    "name": "ipython",
    "version": 3
   },
   "file_extension": ".py",
   "mimetype": "text/x-python",
   "name": "python",
   "nbconvert_exporter": "python",
   "pygments_lexer": "ipython3",
   "version": "3.9.18"
  },
  "orig_nbformat": 4
 },
 "nbformat": 4,
 "nbformat_minor": 2
}
